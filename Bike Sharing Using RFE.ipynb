{
 "cells": [
  {
   "cell_type": "markdown",
   "id": "0d199517",
   "metadata": {},
   "source": [
    "# Importing EDA Libraries"
   ]
  },
  {
   "cell_type": "code",
   "execution_count": 136,
   "id": "01f1d233",
   "metadata": {},
   "outputs": [],
   "source": [
    "import pandas as pd\n",
    "import seaborn as sns\n",
    "import matplotlib.pyplot as plt\n",
    "import statsmodels.api as sm\n",
    "from statsmodels.stats.outliers_influence import variance_inflation_factor\n",
    "from sklearn.metrics import r2_score\n",
    "from sklearn.model_selection import train_test_split\n",
    "from sklearn.linear_model import LinearRegression\n",
    "from sklearn.preprocessing import MinMaxScaler\n",
    "from sklearn.feature_selection import RFE"
   ]
  },
  {
   "cell_type": "markdown",
   "id": "d3e30e79",
   "metadata": {},
   "source": [
    "# Reading and Understanding Data"
   ]
  },
  {
   "cell_type": "code",
   "execution_count": 137,
   "id": "95e9cca8",
   "metadata": {},
   "outputs": [],
   "source": [
    "# Reading the csv file having data\n",
    "bs_data=pd.read_csv(r'day.csv')"
   ]
  },
  {
   "cell_type": "code",
   "execution_count": 138,
   "id": "f35ead22",
   "metadata": {},
   "outputs": [
    {
     "data": {
      "text/html": [
       "<div>\n",
       "<style scoped>\n",
       "    .dataframe tbody tr th:only-of-type {\n",
       "        vertical-align: middle;\n",
       "    }\n",
       "\n",
       "    .dataframe tbody tr th {\n",
       "        vertical-align: top;\n",
       "    }\n",
       "\n",
       "    .dataframe thead th {\n",
       "        text-align: right;\n",
       "    }\n",
       "</style>\n",
       "<table border=\"1\" class=\"dataframe\">\n",
       "  <thead>\n",
       "    <tr style=\"text-align: right;\">\n",
       "      <th></th>\n",
       "      <th>instant</th>\n",
       "      <th>dteday</th>\n",
       "      <th>season</th>\n",
       "      <th>yr</th>\n",
       "      <th>mnth</th>\n",
       "      <th>holiday</th>\n",
       "      <th>weekday</th>\n",
       "      <th>workingday</th>\n",
       "      <th>weathersit</th>\n",
       "      <th>temp</th>\n",
       "      <th>atemp</th>\n",
       "      <th>hum</th>\n",
       "      <th>windspeed</th>\n",
       "      <th>casual</th>\n",
       "      <th>registered</th>\n",
       "      <th>cnt</th>\n",
       "    </tr>\n",
       "  </thead>\n",
       "  <tbody>\n",
       "    <tr>\n",
       "      <th>0</th>\n",
       "      <td>1</td>\n",
       "      <td>01-01-2018</td>\n",
       "      <td>1</td>\n",
       "      <td>0</td>\n",
       "      <td>1</td>\n",
       "      <td>0</td>\n",
       "      <td>6</td>\n",
       "      <td>0</td>\n",
       "      <td>2</td>\n",
       "      <td>14.110847</td>\n",
       "      <td>18.18125</td>\n",
       "      <td>80.5833</td>\n",
       "      <td>10.749882</td>\n",
       "      <td>331</td>\n",
       "      <td>654</td>\n",
       "      <td>985</td>\n",
       "    </tr>\n",
       "    <tr>\n",
       "      <th>1</th>\n",
       "      <td>2</td>\n",
       "      <td>02-01-2018</td>\n",
       "      <td>1</td>\n",
       "      <td>0</td>\n",
       "      <td>1</td>\n",
       "      <td>0</td>\n",
       "      <td>0</td>\n",
       "      <td>0</td>\n",
       "      <td>2</td>\n",
       "      <td>14.902598</td>\n",
       "      <td>17.68695</td>\n",
       "      <td>69.6087</td>\n",
       "      <td>16.652113</td>\n",
       "      <td>131</td>\n",
       "      <td>670</td>\n",
       "      <td>801</td>\n",
       "    </tr>\n",
       "    <tr>\n",
       "      <th>2</th>\n",
       "      <td>3</td>\n",
       "      <td>03-01-2018</td>\n",
       "      <td>1</td>\n",
       "      <td>0</td>\n",
       "      <td>1</td>\n",
       "      <td>0</td>\n",
       "      <td>1</td>\n",
       "      <td>1</td>\n",
       "      <td>1</td>\n",
       "      <td>8.050924</td>\n",
       "      <td>9.47025</td>\n",
       "      <td>43.7273</td>\n",
       "      <td>16.636703</td>\n",
       "      <td>120</td>\n",
       "      <td>1229</td>\n",
       "      <td>1349</td>\n",
       "    </tr>\n",
       "    <tr>\n",
       "      <th>3</th>\n",
       "      <td>4</td>\n",
       "      <td>04-01-2018</td>\n",
       "      <td>1</td>\n",
       "      <td>0</td>\n",
       "      <td>1</td>\n",
       "      <td>0</td>\n",
       "      <td>2</td>\n",
       "      <td>1</td>\n",
       "      <td>1</td>\n",
       "      <td>8.200000</td>\n",
       "      <td>10.60610</td>\n",
       "      <td>59.0435</td>\n",
       "      <td>10.739832</td>\n",
       "      <td>108</td>\n",
       "      <td>1454</td>\n",
       "      <td>1562</td>\n",
       "    </tr>\n",
       "    <tr>\n",
       "      <th>4</th>\n",
       "      <td>5</td>\n",
       "      <td>05-01-2018</td>\n",
       "      <td>1</td>\n",
       "      <td>0</td>\n",
       "      <td>1</td>\n",
       "      <td>0</td>\n",
       "      <td>3</td>\n",
       "      <td>1</td>\n",
       "      <td>1</td>\n",
       "      <td>9.305237</td>\n",
       "      <td>11.46350</td>\n",
       "      <td>43.6957</td>\n",
       "      <td>12.522300</td>\n",
       "      <td>82</td>\n",
       "      <td>1518</td>\n",
       "      <td>1600</td>\n",
       "    </tr>\n",
       "  </tbody>\n",
       "</table>\n",
       "</div>"
      ],
      "text/plain": [
       "   instant      dteday  season  yr  mnth  holiday  weekday  workingday  \\\n",
       "0        1  01-01-2018       1   0     1        0        6           0   \n",
       "1        2  02-01-2018       1   0     1        0        0           0   \n",
       "2        3  03-01-2018       1   0     1        0        1           1   \n",
       "3        4  04-01-2018       1   0     1        0        2           1   \n",
       "4        5  05-01-2018       1   0     1        0        3           1   \n",
       "\n",
       "   weathersit       temp     atemp      hum  windspeed  casual  registered  \\\n",
       "0           2  14.110847  18.18125  80.5833  10.749882     331         654   \n",
       "1           2  14.902598  17.68695  69.6087  16.652113     131         670   \n",
       "2           1   8.050924   9.47025  43.7273  16.636703     120        1229   \n",
       "3           1   8.200000  10.60610  59.0435  10.739832     108        1454   \n",
       "4           1   9.305237  11.46350  43.6957  12.522300      82        1518   \n",
       "\n",
       "    cnt  \n",
       "0   985  \n",
       "1   801  \n",
       "2  1349  \n",
       "3  1562  \n",
       "4  1600  "
      ]
     },
     "execution_count": 138,
     "metadata": {},
     "output_type": "execute_result"
    }
   ],
   "source": [
    "# checking on first 5 columns\n",
    "bs_data.head()"
   ]
  },
  {
   "cell_type": "code",
   "execution_count": 139,
   "id": "992554f9",
   "metadata": {},
   "outputs": [
    {
     "data": {
      "text/html": [
       "<div>\n",
       "<style scoped>\n",
       "    .dataframe tbody tr th:only-of-type {\n",
       "        vertical-align: middle;\n",
       "    }\n",
       "\n",
       "    .dataframe tbody tr th {\n",
       "        vertical-align: top;\n",
       "    }\n",
       "\n",
       "    .dataframe thead th {\n",
       "        text-align: right;\n",
       "    }\n",
       "</style>\n",
       "<table border=\"1\" class=\"dataframe\">\n",
       "  <thead>\n",
       "    <tr style=\"text-align: right;\">\n",
       "      <th></th>\n",
       "      <th>instant</th>\n",
       "      <th>season</th>\n",
       "      <th>yr</th>\n",
       "      <th>mnth</th>\n",
       "      <th>holiday</th>\n",
       "      <th>weekday</th>\n",
       "      <th>workingday</th>\n",
       "      <th>weathersit</th>\n",
       "      <th>temp</th>\n",
       "      <th>atemp</th>\n",
       "      <th>hum</th>\n",
       "      <th>windspeed</th>\n",
       "      <th>casual</th>\n",
       "      <th>registered</th>\n",
       "      <th>cnt</th>\n",
       "    </tr>\n",
       "  </thead>\n",
       "  <tbody>\n",
       "    <tr>\n",
       "      <th>count</th>\n",
       "      <td>730.000000</td>\n",
       "      <td>730.000000</td>\n",
       "      <td>730.000000</td>\n",
       "      <td>730.000000</td>\n",
       "      <td>730.000000</td>\n",
       "      <td>730.000000</td>\n",
       "      <td>730.000000</td>\n",
       "      <td>730.000000</td>\n",
       "      <td>730.000000</td>\n",
       "      <td>730.000000</td>\n",
       "      <td>730.000000</td>\n",
       "      <td>730.000000</td>\n",
       "      <td>730.000000</td>\n",
       "      <td>730.000000</td>\n",
       "      <td>730.000000</td>\n",
       "    </tr>\n",
       "    <tr>\n",
       "      <th>mean</th>\n",
       "      <td>365.500000</td>\n",
       "      <td>2.498630</td>\n",
       "      <td>0.500000</td>\n",
       "      <td>6.526027</td>\n",
       "      <td>0.028767</td>\n",
       "      <td>2.997260</td>\n",
       "      <td>0.683562</td>\n",
       "      <td>1.394521</td>\n",
       "      <td>20.319259</td>\n",
       "      <td>23.726322</td>\n",
       "      <td>62.765175</td>\n",
       "      <td>12.763620</td>\n",
       "      <td>849.249315</td>\n",
       "      <td>3658.757534</td>\n",
       "      <td>4508.006849</td>\n",
       "    </tr>\n",
       "    <tr>\n",
       "      <th>std</th>\n",
       "      <td>210.877136</td>\n",
       "      <td>1.110184</td>\n",
       "      <td>0.500343</td>\n",
       "      <td>3.450215</td>\n",
       "      <td>0.167266</td>\n",
       "      <td>2.006161</td>\n",
       "      <td>0.465405</td>\n",
       "      <td>0.544807</td>\n",
       "      <td>7.506729</td>\n",
       "      <td>8.150308</td>\n",
       "      <td>14.237589</td>\n",
       "      <td>5.195841</td>\n",
       "      <td>686.479875</td>\n",
       "      <td>1559.758728</td>\n",
       "      <td>1936.011647</td>\n",
       "    </tr>\n",
       "    <tr>\n",
       "      <th>min</th>\n",
       "      <td>1.000000</td>\n",
       "      <td>1.000000</td>\n",
       "      <td>0.000000</td>\n",
       "      <td>1.000000</td>\n",
       "      <td>0.000000</td>\n",
       "      <td>0.000000</td>\n",
       "      <td>0.000000</td>\n",
       "      <td>1.000000</td>\n",
       "      <td>2.424346</td>\n",
       "      <td>3.953480</td>\n",
       "      <td>0.000000</td>\n",
       "      <td>1.500244</td>\n",
       "      <td>2.000000</td>\n",
       "      <td>20.000000</td>\n",
       "      <td>22.000000</td>\n",
       "    </tr>\n",
       "    <tr>\n",
       "      <th>25%</th>\n",
       "      <td>183.250000</td>\n",
       "      <td>2.000000</td>\n",
       "      <td>0.000000</td>\n",
       "      <td>4.000000</td>\n",
       "      <td>0.000000</td>\n",
       "      <td>1.000000</td>\n",
       "      <td>0.000000</td>\n",
       "      <td>1.000000</td>\n",
       "      <td>13.811885</td>\n",
       "      <td>16.889713</td>\n",
       "      <td>52.000000</td>\n",
       "      <td>9.041650</td>\n",
       "      <td>316.250000</td>\n",
       "      <td>2502.250000</td>\n",
       "      <td>3169.750000</td>\n",
       "    </tr>\n",
       "    <tr>\n",
       "      <th>50%</th>\n",
       "      <td>365.500000</td>\n",
       "      <td>3.000000</td>\n",
       "      <td>0.500000</td>\n",
       "      <td>7.000000</td>\n",
       "      <td>0.000000</td>\n",
       "      <td>3.000000</td>\n",
       "      <td>1.000000</td>\n",
       "      <td>1.000000</td>\n",
       "      <td>20.465826</td>\n",
       "      <td>24.368225</td>\n",
       "      <td>62.625000</td>\n",
       "      <td>12.125325</td>\n",
       "      <td>717.000000</td>\n",
       "      <td>3664.500000</td>\n",
       "      <td>4548.500000</td>\n",
       "    </tr>\n",
       "    <tr>\n",
       "      <th>75%</th>\n",
       "      <td>547.750000</td>\n",
       "      <td>3.000000</td>\n",
       "      <td>1.000000</td>\n",
       "      <td>10.000000</td>\n",
       "      <td>0.000000</td>\n",
       "      <td>5.000000</td>\n",
       "      <td>1.000000</td>\n",
       "      <td>2.000000</td>\n",
       "      <td>26.880615</td>\n",
       "      <td>30.445775</td>\n",
       "      <td>72.989575</td>\n",
       "      <td>15.625589</td>\n",
       "      <td>1096.500000</td>\n",
       "      <td>4783.250000</td>\n",
       "      <td>5966.000000</td>\n",
       "    </tr>\n",
       "    <tr>\n",
       "      <th>max</th>\n",
       "      <td>730.000000</td>\n",
       "      <td>4.000000</td>\n",
       "      <td>1.000000</td>\n",
       "      <td>12.000000</td>\n",
       "      <td>1.000000</td>\n",
       "      <td>6.000000</td>\n",
       "      <td>1.000000</td>\n",
       "      <td>3.000000</td>\n",
       "      <td>35.328347</td>\n",
       "      <td>42.044800</td>\n",
       "      <td>97.250000</td>\n",
       "      <td>34.000021</td>\n",
       "      <td>3410.000000</td>\n",
       "      <td>6946.000000</td>\n",
       "      <td>8714.000000</td>\n",
       "    </tr>\n",
       "  </tbody>\n",
       "</table>\n",
       "</div>"
      ],
      "text/plain": [
       "          instant      season          yr        mnth     holiday     weekday  \\\n",
       "count  730.000000  730.000000  730.000000  730.000000  730.000000  730.000000   \n",
       "mean   365.500000    2.498630    0.500000    6.526027    0.028767    2.997260   \n",
       "std    210.877136    1.110184    0.500343    3.450215    0.167266    2.006161   \n",
       "min      1.000000    1.000000    0.000000    1.000000    0.000000    0.000000   \n",
       "25%    183.250000    2.000000    0.000000    4.000000    0.000000    1.000000   \n",
       "50%    365.500000    3.000000    0.500000    7.000000    0.000000    3.000000   \n",
       "75%    547.750000    3.000000    1.000000   10.000000    0.000000    5.000000   \n",
       "max    730.000000    4.000000    1.000000   12.000000    1.000000    6.000000   \n",
       "\n",
       "       workingday  weathersit        temp       atemp         hum   windspeed  \\\n",
       "count  730.000000  730.000000  730.000000  730.000000  730.000000  730.000000   \n",
       "mean     0.683562    1.394521   20.319259   23.726322   62.765175   12.763620   \n",
       "std      0.465405    0.544807    7.506729    8.150308   14.237589    5.195841   \n",
       "min      0.000000    1.000000    2.424346    3.953480    0.000000    1.500244   \n",
       "25%      0.000000    1.000000   13.811885   16.889713   52.000000    9.041650   \n",
       "50%      1.000000    1.000000   20.465826   24.368225   62.625000   12.125325   \n",
       "75%      1.000000    2.000000   26.880615   30.445775   72.989575   15.625589   \n",
       "max      1.000000    3.000000   35.328347   42.044800   97.250000   34.000021   \n",
       "\n",
       "            casual   registered          cnt  \n",
       "count   730.000000   730.000000   730.000000  \n",
       "mean    849.249315  3658.757534  4508.006849  \n",
       "std     686.479875  1559.758728  1936.011647  \n",
       "min       2.000000    20.000000    22.000000  \n",
       "25%     316.250000  2502.250000  3169.750000  \n",
       "50%     717.000000  3664.500000  4548.500000  \n",
       "75%    1096.500000  4783.250000  5966.000000  \n",
       "max    3410.000000  6946.000000  8714.000000  "
      ]
     },
     "execution_count": 139,
     "metadata": {},
     "output_type": "execute_result"
    }
   ],
   "source": [
    "#checking on numeric columns and range of values\n",
    "bs_data.describe()"
   ]
  },
  {
   "cell_type": "code",
   "execution_count": 140,
   "id": "de421d41",
   "metadata": {},
   "outputs": [],
   "source": [
    "#the casual+registered=cnt. Here cnt is the dependent variable. we can drop casual and resgistered column because we dont want to analyse or build model on them separately\n",
    "bs_data=bs_data.drop(['casual','registered'],axis=1)"
   ]
  },
  {
   "cell_type": "code",
   "execution_count": 141,
   "id": "e171d725",
   "metadata": {},
   "outputs": [],
   "source": [
    "# from column temp to atemp. the atemp column is more useful. so we can drop temp column\n",
    "bs_data=bs_data.drop('temp',axis=1)"
   ]
  },
  {
   "cell_type": "code",
   "execution_count": 142,
   "id": "86504546",
   "metadata": {},
   "outputs": [
    {
     "data": {
      "text/plain": [
       "(730, 13)"
      ]
     },
     "execution_count": 142,
     "metadata": {},
     "output_type": "execute_result"
    }
   ],
   "source": [
    "# checking total number of columns and rows\n",
    "bs_data.shape"
   ]
  },
  {
   "cell_type": "code",
   "execution_count": 143,
   "id": "9ffa82a2",
   "metadata": {
    "scrolled": true
   },
   "outputs": [
    {
     "name": "stdout",
     "output_type": "stream",
     "text": [
      "<class 'pandas.core.frame.DataFrame'>\n",
      "RangeIndex: 730 entries, 0 to 729\n",
      "Data columns (total 13 columns):\n",
      " #   Column      Non-Null Count  Dtype  \n",
      "---  ------      --------------  -----  \n",
      " 0   instant     730 non-null    int64  \n",
      " 1   dteday      730 non-null    object \n",
      " 2   season      730 non-null    int64  \n",
      " 3   yr          730 non-null    int64  \n",
      " 4   mnth        730 non-null    int64  \n",
      " 5   holiday     730 non-null    int64  \n",
      " 6   weekday     730 non-null    int64  \n",
      " 7   workingday  730 non-null    int64  \n",
      " 8   weathersit  730 non-null    int64  \n",
      " 9   atemp       730 non-null    float64\n",
      " 10  hum         730 non-null    float64\n",
      " 11  windspeed   730 non-null    float64\n",
      " 12  cnt         730 non-null    int64  \n",
      "dtypes: float64(3), int64(9), object(1)\n",
      "memory usage: 74.3+ KB\n"
     ]
    }
   ],
   "source": [
    "# checking data type of each column and also looking for missing values if any\n",
    "bs_data.info()"
   ]
  },
  {
   "cell_type": "code",
   "execution_count": 144,
   "id": "76f9cdc4",
   "metadata": {},
   "outputs": [],
   "source": [
    "# no missing value in any column. All are int or float values except dteday is string"
   ]
  },
  {
   "cell_type": "code",
   "execution_count": 145,
   "id": "6ed59c70",
   "metadata": {
    "scrolled": true
   },
   "outputs": [
    {
     "name": "stdout",
     "output_type": "stream",
     "text": [
      "instant 730\n",
      "dteday 730\n",
      "season 4\n",
      "yr 2\n",
      "mnth 12\n",
      "holiday 2\n",
      "weekday 7\n",
      "workingday 2\n",
      "weathersit 3\n",
      "atemp 689\n",
      "hum 594\n",
      "windspeed 649\n",
      "cnt 695\n"
     ]
    }
   ],
   "source": [
    "#checking number of unique values in data colmns\n",
    "for i in bs_data.columns:\n",
    "    print(i,bs_data[i].nunique())"
   ]
  },
  {
   "cell_type": "code",
   "execution_count": 146,
   "id": "128c76ea",
   "metadata": {},
   "outputs": [],
   "source": [
    "#we can drop instant and dteday because both are unique for each row. From date we have already year, month and weekday information.\n",
    "bs_data=bs_data.drop(['instant','dteday'],axis=1)"
   ]
  },
  {
   "cell_type": "markdown",
   "id": "2201f8f8",
   "metadata": {},
   "source": [
    "#### We can see season column has 4 level of values, mnth has 12, weekday has 7, weathersit has 3. The columns yr,holiday, workingday are having 2 level of values. So we have to create dummy variables out of the categorical columns in which level has more that 2."
   ]
  },
  {
   "cell_type": "code",
   "execution_count": null,
   "id": "29be7bb4",
   "metadata": {},
   "outputs": [],
   "source": [
    "plt.figure(figsize=[20,12])\n",
    "sns.pairplot(bs_data)"
   ]
  },
  {
   "cell_type": "code",
   "execution_count": null,
   "id": "7c0ebc9d",
   "metadata": {
    "scrolled": false
   },
   "outputs": [],
   "source": [
    "plt.figure(figsize=[20,12])\n",
    "plt.subplot(4,2,1)\n",
    "sns.boxplot(x='season',y='cnt',data=bs_data)\n",
    "plt.subplot(4,2,2)\n",
    "sns.boxplot(x='mnth',y='cnt',data=bs_data)\n",
    "plt.subplot(4,2,3)\n",
    "sns.boxplot(x='weekday',y='cnt',data=bs_data)\n",
    "plt.subplot(4,2,4)\n",
    "sns.boxplot(x='holiday',y='cnt',data=bs_data)\n",
    "plt.subplot(4,2,5)\n",
    "sns.boxplot(x='weathersit',y='cnt',data=bs_data)\n",
    "plt.subplot(4,2,6)\n",
    "sns.boxplot(x='workingday',y='cnt',data=bs_data)\n",
    "plt.subplot(4,2,7)\n",
    "sns.boxplot(x='yr',y='cnt',data=bs_data)\n",
    "plt.show()"
   ]
  },
  {
   "cell_type": "code",
   "execution_count": null,
   "id": "c164a3d3",
   "metadata": {},
   "outputs": [],
   "source": [
    "plt.figure(figsize=[20,12])\n",
    "sns.heatmap(bs_data.corr(),annot=True)"
   ]
  },
  {
   "cell_type": "markdown",
   "id": "ad1821e0",
   "metadata": {},
   "source": [
    "## From the correlation heatmap, cnt is highly correlated with atemp , yr, season and month.\n",
    "## While in the pairplot we have observed a good relationship of cnt with atemp, hum and windspeed.\n",
    "## Both 2 visualisation clearly show that categorical values have no impact on dependent variable."
   ]
  },
  {
   "cell_type": "markdown",
   "id": "0c0a49ef",
   "metadata": {},
   "source": [
    "### Start analysing categorical columns and creating dummy variables."
   ]
  },
  {
   "cell_type": "code",
   "execution_count": null,
   "id": "fe812fea",
   "metadata": {},
   "outputs": [],
   "source": [
    "#lets pick season column first\n",
    "bs_data.season.value_counts().plot(kind='bar')"
   ]
  },
  {
   "cell_type": "code",
   "execution_count": null,
   "id": "99cd22eb",
   "metadata": {},
   "outputs": [],
   "source": [
    "bs_data['season']=bs_data['season'].map({1:'spring', 2:'summer', 3:'fall', 4:'winter'})"
   ]
  },
  {
   "cell_type": "code",
   "execution_count": null,
   "id": "a39a6524",
   "metadata": {},
   "outputs": [],
   "source": [
    "seasons=pd.get_dummies(bs_data['season'],drop_first=True)\n",
    "seasons"
   ]
  },
  {
   "cell_type": "code",
   "execution_count": null,
   "id": "5e1769ff",
   "metadata": {},
   "outputs": [],
   "source": [
    "bs_data=pd.concat([bs_data,seasons],axis=1)\n",
    "bs_data.head()"
   ]
  },
  {
   "cell_type": "code",
   "execution_count": null,
   "id": "9b811bf9",
   "metadata": {},
   "outputs": [],
   "source": [
    "bs_data=bs_data.drop('season',axis=1)"
   ]
  },
  {
   "cell_type": "code",
   "execution_count": null,
   "id": "b4e08a72",
   "metadata": {},
   "outputs": [],
   "source": [
    "bs_data.head()"
   ]
  },
  {
   "cell_type": "code",
   "execution_count": null,
   "id": "f849cd4a",
   "metadata": {},
   "outputs": [],
   "source": [
    "bs_data.mnth.value_counts().plot(kind='bar')"
   ]
  },
  {
   "cell_type": "code",
   "execution_count": null,
   "id": "ba18a618",
   "metadata": {},
   "outputs": [],
   "source": [
    "bs_data['mnth']=bs_data['mnth'].map({1:'Jan', 2:'Feb', 3:'Mar', 4:'Apr',5:'May', 6:'Jun', 7:'Jul', 8:'Aug',9:'Sep', 10:'Oct', 11:'Nov', 12:'Dec'})"
   ]
  },
  {
   "cell_type": "code",
   "execution_count": null,
   "id": "af9358d7",
   "metadata": {},
   "outputs": [],
   "source": [
    "mnths=pd.get_dummies(bs_data['mnth'],drop_first=True)\n",
    "bs_data=pd.concat([bs_data,mnths],axis=1)\n",
    "bs_data=bs_data.drop('mnth',axis=1)\n",
    "bs_data.head()"
   ]
  },
  {
   "cell_type": "code",
   "execution_count": null,
   "id": "9de52182",
   "metadata": {},
   "outputs": [],
   "source": [
    "bs_data.columns"
   ]
  },
  {
   "cell_type": "code",
   "execution_count": null,
   "id": "07405bd3",
   "metadata": {},
   "outputs": [],
   "source": [
    "bs_data.weekday.value_counts().plot(kind='bar')"
   ]
  },
  {
   "cell_type": "code",
   "execution_count": null,
   "id": "a138259d",
   "metadata": {},
   "outputs": [],
   "source": [
    "bs_data['weekday']=bs_data['weekday'].map({0:'Sunday',1:'Monday', 2:'Tuesday', 3:'Wednesday', 4:'Thursday',5:'Friday', 6:'Saturday'})"
   ]
  },
  {
   "cell_type": "code",
   "execution_count": null,
   "id": "78077c03",
   "metadata": {},
   "outputs": [],
   "source": [
    "weekday=pd.get_dummies(bs_data['weekday'],drop_first=True)\n",
    "bs_data=pd.concat([bs_data,weekday],axis=1)\n",
    "bs_data=bs_data.drop('weekday',axis=1)\n",
    "bs_data.head()"
   ]
  },
  {
   "cell_type": "code",
   "execution_count": null,
   "id": "91293056",
   "metadata": {},
   "outputs": [],
   "source": [
    "bs_data.weathersit.value_counts().plot(kind='bar')"
   ]
  },
  {
   "cell_type": "code",
   "execution_count": null,
   "id": "053d163a",
   "metadata": {},
   "outputs": [],
   "source": [
    "bs_data['weathersit']=bs_data['weathersit'].map({1:'Clear',2:'Mist',3:'Light'})"
   ]
  },
  {
   "cell_type": "code",
   "execution_count": null,
   "id": "8b16f9c6",
   "metadata": {
    "scrolled": true
   },
   "outputs": [],
   "source": [
    "weathersit=pd.get_dummies(bs_data['weathersit'],drop_first=True)\n",
    "bs_data=pd.concat([bs_data,weathersit],axis=1)\n",
    "bs_data=bs_data.drop('weathersit',axis=1)\n",
    "bs_data.head()"
   ]
  },
  {
   "cell_type": "markdown",
   "id": "c4ab333f",
   "metadata": {},
   "source": [
    "# Splitting into train and test"
   ]
  },
  {
   "cell_type": "code",
   "execution_count": null,
   "id": "fd625b1f",
   "metadata": {},
   "outputs": [],
   "source": [
    "bs_train,bs_test=train_test_split(bs_data,train_size=0.7,random_state=100)"
   ]
  },
  {
   "cell_type": "code",
   "execution_count": null,
   "id": "70d50335",
   "metadata": {},
   "outputs": [],
   "source": [
    "bs_test.shape"
   ]
  },
  {
   "cell_type": "markdown",
   "id": "832c28f0",
   "metadata": {},
   "source": [
    "# Lets start preparing data for model"
   ]
  },
  {
   "cell_type": "code",
   "execution_count": null,
   "id": "47377b3b",
   "metadata": {},
   "outputs": [],
   "source": [
    "bs_train.head()"
   ]
  },
  {
   "cell_type": "markdown",
   "id": "5c1c043b",
   "metadata": {},
   "source": [
    "## Rescaling of vairables"
   ]
  },
  {
   "cell_type": "code",
   "execution_count": null,
   "id": "d7080df1",
   "metadata": {},
   "outputs": [],
   "source": [
    "num_vars=['atemp','hum','windspeed','cnt']\n",
    "scaler=MinMaxScaler()\n",
    "bs_train[num_vars]=scaler.fit_transform(bs_train[num_vars])\n",
    "bs_train.describe()"
   ]
  },
  {
   "cell_type": "code",
   "execution_count": null,
   "id": "98bd519e",
   "metadata": {},
   "outputs": [],
   "source": [
    "plt.figure(figsize=[20,12])\n",
    "sns.heatmap(bs_train.corr(),annot=True)\n",
    "plt.show()"
   ]
  },
  {
   "cell_type": "markdown",
   "id": "94bc9d77",
   "metadata": {},
   "source": [
    "# Training the model"
   ]
  },
  {
   "cell_type": "markdown",
   "id": "36d8e541",
   "metadata": {},
   "source": [
    "## Using the Varaible selection method via RFE"
   ]
  },
  {
   "cell_type": "code",
   "execution_count": null,
   "id": "987b3e20",
   "metadata": {},
   "outputs": [],
   "source": [
    "y_train=bs_train.pop('cnt')\n",
    "X_train=bs_train \n",
    "lm=LinearRegression()\n",
    "rfe=RFE(lm,n_features_to_select=20)\n",
    "rfe=rfe.fit(X_train,y_train)"
   ]
  },
  {
   "cell_type": "code",
   "execution_count": null,
   "id": "eddf02ef",
   "metadata": {},
   "outputs": [],
   "source": [
    "list(zip(X_train.columns,rfe.support_,rfe.ranking_))"
   ]
  },
  {
   "cell_type": "code",
   "execution_count": null,
   "id": "28e42f8b",
   "metadata": {},
   "outputs": [],
   "source": [
    "col=X_train.columns[rfe.support_]\n",
    "X_train.columns[~rfe.support_]"
   ]
  },
  {
   "cell_type": "code",
   "execution_count": null,
   "id": "4e03ad68",
   "metadata": {},
   "outputs": [],
   "source": [
    "X_train_rfe=X_train[col]"
   ]
  },
  {
   "cell_type": "code",
   "execution_count": null,
   "id": "04b61271",
   "metadata": {},
   "outputs": [],
   "source": [
    "# So creating the model and checking summary is an iterative process so lets create a function that we will be calling when need.\n",
    "def lr_model_summary(X,y):\n",
    "    X=sm.add_constant(X)\n",
    "    lr_model=sm.OLS(y,X).fit()\n",
    "    print(lr_model.summary())\n",
    "    return lr_model"
   ]
  },
  {
   "cell_type": "code",
   "execution_count": null,
   "id": "d6bf1b76",
   "metadata": {},
   "outputs": [],
   "source": [
    "#similarly creating function for calculating VIF\n",
    "def get_vif(X):\n",
    "    vif=pd.DataFrame()\n",
    "    vif['Features']=X.columns\n",
    "    vif['VIF']=[variance_inflation_factor(X.values,i) for i in range(X.shape[1])]\n",
    "    vif['VIF']=round(vif['VIF'],2)\n",
    "    vif=vif.sort_values(by='VIF',ascending=False)\n",
    "    #print(vif)\n",
    "    return vif"
   ]
  },
  {
   "cell_type": "code",
   "execution_count": null,
   "id": "166869a2",
   "metadata": {},
   "outputs": [],
   "source": [
    "lr_model_summary(X_train_rfe,y_train)\n",
    "get_vif(X_train_rfe)"
   ]
  },
  {
   "cell_type": "code",
   "execution_count": null,
   "id": "1bdaf93c",
   "metadata": {},
   "outputs": [],
   "source": [
    "X_train_rfe=X_train_rfe.drop('workingday',axis=1)\n",
    "lr_model_summary(X_train_rfe,y_train)\n",
    "get_vif(X_train_rfe)"
   ]
  },
  {
   "cell_type": "code",
   "execution_count": null,
   "id": "ba5770e3",
   "metadata": {},
   "outputs": [],
   "source": [
    "X_train_rfe=X_train_rfe.drop('Saturday',axis=1)\n",
    "lr_model_summary(X_train_rfe,y_train)\n",
    "get_vif(X_train_rfe)"
   ]
  },
  {
   "cell_type": "code",
   "execution_count": null,
   "id": "1fe5c67f",
   "metadata": {},
   "outputs": [],
   "source": [
    "X_train_rfe=X_train_rfe.drop('May',axis=1)\n",
    "lr_model_summary(X_train_rfe,y_train)\n",
    "get_vif(X_train_rfe)"
   ]
  },
  {
   "cell_type": "code",
   "execution_count": null,
   "id": "ca211a7a",
   "metadata": {},
   "outputs": [],
   "source": [
    "X_train_rfe=X_train_rfe.drop('spring',axis=1)\n",
    "lr_model_summary(X_train_rfe,y_train)\n",
    "get_vif(X_train_rfe)"
   ]
  },
  {
   "cell_type": "code",
   "execution_count": null,
   "id": "461b8598",
   "metadata": {},
   "outputs": [],
   "source": [
    "X_train_rfe=X_train_rfe.drop('hum',axis=1)\n",
    "lr_model_summary(X_train_rfe,y_train)\n",
    "get_vif(X_train_rfe)"
   ]
  },
  {
   "cell_type": "code",
   "execution_count": null,
   "id": "0ce6bf2f",
   "metadata": {},
   "outputs": [],
   "source": [
    "X_train_rfe=X_train_rfe.drop('atemp',axis=1)\n",
    "lr_model_summary(X_train_rfe,y_train)\n",
    "get_vif(X_train_rfe)"
   ]
  },
  {
   "cell_type": "code",
   "execution_count": null,
   "id": "77302293",
   "metadata": {},
   "outputs": [],
   "source": [
    "#We can see atemp is correlated with Sep and Aug. So lets drop AUg and Sep and add atemp\n",
    "X_train_rfe1=X_train_rfe\n",
    "X_train_rfe1['atemp']=X_train['atemp']\n",
    "X_train_rfe1=X_train_rfe1.drop(['Sep','Aug'],axis=1)\n",
    "lr_model_summary(X_train_rfe1,y_train)\n",
    "get_vif(X_train_rfe1)"
   ]
  },
  {
   "cell_type": "code",
   "execution_count": null,
   "id": "b8403d2d",
   "metadata": {},
   "outputs": [],
   "source": [
    "# so the R-squared has been increased and Vif of atemp is under 5. so lets analyze other columns with their correlation\n",
    "\n",
    "#We can see spring is correlated with Feb ,Jan and Mar. So lets drop AUg and Sep and add atemp\n",
    "X_train_rfe1['spring']=X_train['spring']\n",
    "X_train_rfe1=X_train_rfe1.drop(['Jan','Feb'],axis=1)\n",
    "lr_model_summary(X_train_rfe1,y_train)\n",
    "get_vif(X_train_rfe1)"
   ]
  },
  {
   "cell_type": "code",
   "execution_count": null,
   "id": "9ff6089d",
   "metadata": {},
   "outputs": [],
   "source": [
    "# so the R-squared has been increased and Vif of atemp is under 5. so lets analyze other columns with their correlation\n",
    "\n",
    "#We can see winter is correlated with Nov ,Dec and Oct. So lets drop AUg and Sep and add atemp\n",
    "#X_train_rfe1['winter']=X_train['winter']\n",
    "X_train_rfe1=X_train_rfe1.drop(['Nov','Dec'],axis=1)\n",
    "lr_model_summary(X_train_rfe1,y_train)\n",
    "get_vif(X_train_rfe1)"
   ]
  }
 ],
 "metadata": {
  "kernelspec": {
   "display_name": "Python 3 (ipykernel)",
   "language": "python",
   "name": "python3"
  },
  "language_info": {
   "codemirror_mode": {
    "name": "ipython",
    "version": 3
   },
   "file_extension": ".py",
   "mimetype": "text/x-python",
   "name": "python",
   "nbconvert_exporter": "python",
   "pygments_lexer": "ipython3",
   "version": "3.8.10"
  }
 },
 "nbformat": 4,
 "nbformat_minor": 5
}
