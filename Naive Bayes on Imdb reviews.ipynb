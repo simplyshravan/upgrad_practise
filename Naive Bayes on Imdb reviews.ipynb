{
 "cells": [
  {
   "cell_type": "code",
   "execution_count": 1,
   "id": "de423aef",
   "metadata": {},
   "outputs": [],
   "source": [
    "import pandas as pd"
   ]
  },
  {
   "cell_type": "code",
   "execution_count": 2,
   "id": "39d7d8a8",
   "metadata": {},
   "outputs": [],
   "source": [
    "imdb_train=pd.read_csv('movie_review_train.csv')"
   ]
  },
  {
   "cell_type": "code",
   "execution_count": 3,
   "id": "3177ce8c",
   "metadata": {},
   "outputs": [
    {
     "data": {
      "text/plain": [
       "(1600, 2)"
      ]
     },
     "execution_count": 3,
     "metadata": {},
     "output_type": "execute_result"
    }
   ],
   "source": [
    "imdb_train.shape"
   ]
  },
  {
   "cell_type": "code",
   "execution_count": 4,
   "id": "ef25ea7e",
   "metadata": {},
   "outputs": [
    {
     "data": {
      "text/html": [
       "<div>\n",
       "<style scoped>\n",
       "    .dataframe tbody tr th:only-of-type {\n",
       "        vertical-align: middle;\n",
       "    }\n",
       "\n",
       "    .dataframe tbody tr th {\n",
       "        vertical-align: top;\n",
       "    }\n",
       "\n",
       "    .dataframe thead th {\n",
       "        text-align: right;\n",
       "    }\n",
       "</style>\n",
       "<table border=\"1\" class=\"dataframe\">\n",
       "  <thead>\n",
       "    <tr style=\"text-align: right;\">\n",
       "      <th></th>\n",
       "      <th>class</th>\n",
       "      <th>text</th>\n",
       "    </tr>\n",
       "  </thead>\n",
       "  <tbody>\n",
       "    <tr>\n",
       "      <th>0</th>\n",
       "      <td>Pos</td>\n",
       "      <td>a common complaint amongst film critics is   ...</td>\n",
       "    </tr>\n",
       "    <tr>\n",
       "      <th>1</th>\n",
       "      <td>Pos</td>\n",
       "      <td>whew   this film oozes energy   the kind of b...</td>\n",
       "    </tr>\n",
       "  </tbody>\n",
       "</table>\n",
       "</div>"
      ],
      "text/plain": [
       "  class                                               text\n",
       "0   Pos   a common complaint amongst film critics is   ...\n",
       "1   Pos   whew   this film oozes energy   the kind of b..."
      ]
     },
     "execution_count": 4,
     "metadata": {},
     "output_type": "execute_result"
    }
   ],
   "source": [
    "imdb_train.head(2)"
   ]
  },
  {
   "cell_type": "code",
   "execution_count": 18,
   "id": "992cc0f5",
   "metadata": {},
   "outputs": [
    {
     "data": {
      "text/plain": [
       "class\n",
       "Neg    800\n",
       "Pos    800\n",
       "Name: class, dtype: int64"
      ]
     },
     "execution_count": 18,
     "metadata": {},
     "output_type": "execute_result"
    }
   ],
   "source": [
    "imdb_train.groupby('class')['class'].count()"
   ]
  },
  {
   "cell_type": "code",
   "execution_count": 28,
   "id": "3dba3842",
   "metadata": {},
   "outputs": [],
   "source": [
    "imdb_train['label']=imdb_train['class'].map({'Neg':0,'Pos':1})"
   ]
  },
  {
   "cell_type": "code",
   "execution_count": 29,
   "id": "0084d4b1",
   "metadata": {},
   "outputs": [
    {
     "data": {
      "text/html": [
       "<div>\n",
       "<style scoped>\n",
       "    .dataframe tbody tr th:only-of-type {\n",
       "        vertical-align: middle;\n",
       "    }\n",
       "\n",
       "    .dataframe tbody tr th {\n",
       "        vertical-align: top;\n",
       "    }\n",
       "\n",
       "    .dataframe thead th {\n",
       "        text-align: right;\n",
       "    }\n",
       "</style>\n",
       "<table border=\"1\" class=\"dataframe\">\n",
       "  <thead>\n",
       "    <tr style=\"text-align: right;\">\n",
       "      <th></th>\n",
       "      <th>class</th>\n",
       "      <th>text</th>\n",
       "      <th>label</th>\n",
       "    </tr>\n",
       "  </thead>\n",
       "  <tbody>\n",
       "    <tr>\n",
       "      <th>0</th>\n",
       "      <td>Pos</td>\n",
       "      <td>a common complaint amongst film critics is   ...</td>\n",
       "      <td>1</td>\n",
       "    </tr>\n",
       "    <tr>\n",
       "      <th>1</th>\n",
       "      <td>Pos</td>\n",
       "      <td>whew   this film oozes energy   the kind of b...</td>\n",
       "      <td>1</td>\n",
       "    </tr>\n",
       "  </tbody>\n",
       "</table>\n",
       "</div>"
      ],
      "text/plain": [
       "  class                                               text  label\n",
       "0   Pos   a common complaint amongst film critics is   ...      1\n",
       "1   Pos   whew   this film oozes energy   the kind of b...      1"
      ]
     },
     "execution_count": 29,
     "metadata": {},
     "output_type": "execute_result"
    }
   ],
   "source": [
    "imdb_train.head(2)"
   ]
  },
  {
   "cell_type": "code",
   "execution_count": 31,
   "id": "bdc1801e",
   "metadata": {},
   "outputs": [],
   "source": [
    "imdb_train.drop('class',inplace=True,axis=1)"
   ]
  },
  {
   "cell_type": "code",
   "execution_count": 32,
   "id": "9cae8f75",
   "metadata": {},
   "outputs": [
    {
     "data": {
      "text/html": [
       "<div>\n",
       "<style scoped>\n",
       "    .dataframe tbody tr th:only-of-type {\n",
       "        vertical-align: middle;\n",
       "    }\n",
       "\n",
       "    .dataframe tbody tr th {\n",
       "        vertical-align: top;\n",
       "    }\n",
       "\n",
       "    .dataframe thead th {\n",
       "        text-align: right;\n",
       "    }\n",
       "</style>\n",
       "<table border=\"1\" class=\"dataframe\">\n",
       "  <thead>\n",
       "    <tr style=\"text-align: right;\">\n",
       "      <th></th>\n",
       "      <th>text</th>\n",
       "      <th>label</th>\n",
       "    </tr>\n",
       "  </thead>\n",
       "  <tbody>\n",
       "    <tr>\n",
       "      <th>0</th>\n",
       "      <td>a common complaint amongst film critics is   ...</td>\n",
       "      <td>1</td>\n",
       "    </tr>\n",
       "    <tr>\n",
       "      <th>1</th>\n",
       "      <td>whew   this film oozes energy   the kind of b...</td>\n",
       "      <td>1</td>\n",
       "    </tr>\n",
       "  </tbody>\n",
       "</table>\n",
       "</div>"
      ],
      "text/plain": [
       "                                                text  label\n",
       "0   a common complaint amongst film critics is   ...      1\n",
       "1   whew   this film oozes energy   the kind of b...      1"
      ]
     },
     "execution_count": 32,
     "metadata": {},
     "output_type": "execute_result"
    }
   ],
   "source": [
    "imdb_train.head(2)"
   ]
  },
  {
   "cell_type": "code",
   "execution_count": 37,
   "id": "5d7a0b51",
   "metadata": {},
   "outputs": [],
   "source": [
    "X_train=imdb_train['text']\n",
    "y_train=imdb_train['label']"
   ]
  },
  {
   "cell_type": "code",
   "execution_count": 35,
   "id": "de75a9a8",
   "metadata": {},
   "outputs": [
    {
     "data": {
      "text/plain": [
       "(1600,)"
      ]
     },
     "execution_count": 35,
     "metadata": {},
     "output_type": "execute_result"
    }
   ],
   "source": [
    "y_train.shape"
   ]
  },
  {
   "cell_type": "code",
   "execution_count": 38,
   "id": "beb7ba81",
   "metadata": {},
   "outputs": [],
   "source": [
    "from sklearn.feature_extraction.text import CountVectorizer"
   ]
  },
  {
   "cell_type": "code",
   "execution_count": 40,
   "id": "1bee5130",
   "metadata": {},
   "outputs": [],
   "source": [
    "vect=CountVectorizer(stop_words='english')"
   ]
  },
  {
   "cell_type": "code",
   "execution_count": 41,
   "id": "0b17dc84",
   "metadata": {},
   "outputs": [
    {
     "data": {
      "text/html": [
       "<style>#sk-container-id-1 {color: black;background-color: white;}#sk-container-id-1 pre{padding: 0;}#sk-container-id-1 div.sk-toggleable {background-color: white;}#sk-container-id-1 label.sk-toggleable__label {cursor: pointer;display: block;width: 100%;margin-bottom: 0;padding: 0.3em;box-sizing: border-box;text-align: center;}#sk-container-id-1 label.sk-toggleable__label-arrow:before {content: \"▸\";float: left;margin-right: 0.25em;color: #696969;}#sk-container-id-1 label.sk-toggleable__label-arrow:hover:before {color: black;}#sk-container-id-1 div.sk-estimator:hover label.sk-toggleable__label-arrow:before {color: black;}#sk-container-id-1 div.sk-toggleable__content {max-height: 0;max-width: 0;overflow: hidden;text-align: left;background-color: #f0f8ff;}#sk-container-id-1 div.sk-toggleable__content pre {margin: 0.2em;color: black;border-radius: 0.25em;background-color: #f0f8ff;}#sk-container-id-1 input.sk-toggleable__control:checked~div.sk-toggleable__content {max-height: 200px;max-width: 100%;overflow: auto;}#sk-container-id-1 input.sk-toggleable__control:checked~label.sk-toggleable__label-arrow:before {content: \"▾\";}#sk-container-id-1 div.sk-estimator input.sk-toggleable__control:checked~label.sk-toggleable__label {background-color: #d4ebff;}#sk-container-id-1 div.sk-label input.sk-toggleable__control:checked~label.sk-toggleable__label {background-color: #d4ebff;}#sk-container-id-1 input.sk-hidden--visually {border: 0;clip: rect(1px 1px 1px 1px);clip: rect(1px, 1px, 1px, 1px);height: 1px;margin: -1px;overflow: hidden;padding: 0;position: absolute;width: 1px;}#sk-container-id-1 div.sk-estimator {font-family: monospace;background-color: #f0f8ff;border: 1px dotted black;border-radius: 0.25em;box-sizing: border-box;margin-bottom: 0.5em;}#sk-container-id-1 div.sk-estimator:hover {background-color: #d4ebff;}#sk-container-id-1 div.sk-parallel-item::after {content: \"\";width: 100%;border-bottom: 1px solid gray;flex-grow: 1;}#sk-container-id-1 div.sk-label:hover label.sk-toggleable__label {background-color: #d4ebff;}#sk-container-id-1 div.sk-serial::before {content: \"\";position: absolute;border-left: 1px solid gray;box-sizing: border-box;top: 0;bottom: 0;left: 50%;z-index: 0;}#sk-container-id-1 div.sk-serial {display: flex;flex-direction: column;align-items: center;background-color: white;padding-right: 0.2em;padding-left: 0.2em;position: relative;}#sk-container-id-1 div.sk-item {position: relative;z-index: 1;}#sk-container-id-1 div.sk-parallel {display: flex;align-items: stretch;justify-content: center;background-color: white;position: relative;}#sk-container-id-1 div.sk-item::before, #sk-container-id-1 div.sk-parallel-item::before {content: \"\";position: absolute;border-left: 1px solid gray;box-sizing: border-box;top: 0;bottom: 0;left: 50%;z-index: -1;}#sk-container-id-1 div.sk-parallel-item {display: flex;flex-direction: column;z-index: 1;position: relative;background-color: white;}#sk-container-id-1 div.sk-parallel-item:first-child::after {align-self: flex-end;width: 50%;}#sk-container-id-1 div.sk-parallel-item:last-child::after {align-self: flex-start;width: 50%;}#sk-container-id-1 div.sk-parallel-item:only-child::after {width: 0;}#sk-container-id-1 div.sk-dashed-wrapped {border: 1px dashed gray;margin: 0 0.4em 0.5em 0.4em;box-sizing: border-box;padding-bottom: 0.4em;background-color: white;}#sk-container-id-1 div.sk-label label {font-family: monospace;font-weight: bold;display: inline-block;line-height: 1.2em;}#sk-container-id-1 div.sk-label-container {text-align: center;}#sk-container-id-1 div.sk-container {/* jupyter's `normalize.less` sets `[hidden] { display: none; }` but bootstrap.min.css set `[hidden] { display: none !important; }` so we also need the `!important` here to be able to override the default hidden behavior on the sphinx rendered scikit-learn.org. See: https://github.com/scikit-learn/scikit-learn/issues/21755 */display: inline-block !important;position: relative;}#sk-container-id-1 div.sk-text-repr-fallback {display: none;}</style><div id=\"sk-container-id-1\" class=\"sk-top-container\"><div class=\"sk-text-repr-fallback\"><pre>CountVectorizer(stop_words=&#x27;english&#x27;)</pre><b>In a Jupyter environment, please rerun this cell to show the HTML representation or trust the notebook. <br />On GitHub, the HTML representation is unable to render, please try loading this page with nbviewer.org.</b></div><div class=\"sk-container\" hidden><div class=\"sk-item\"><div class=\"sk-estimator sk-toggleable\"><input class=\"sk-toggleable__control sk-hidden--visually\" id=\"sk-estimator-id-1\" type=\"checkbox\" checked><label for=\"sk-estimator-id-1\" class=\"sk-toggleable__label sk-toggleable__label-arrow\">CountVectorizer</label><div class=\"sk-toggleable__content\"><pre>CountVectorizer(stop_words=&#x27;english&#x27;)</pre></div></div></div></div></div>"
      ],
      "text/plain": [
       "CountVectorizer(stop_words='english')"
      ]
     },
     "execution_count": 41,
     "metadata": {},
     "output_type": "execute_result"
    }
   ],
   "source": [
    "vect.fit(X_train)"
   ]
  },
  {
   "cell_type": "code",
   "execution_count": 47,
   "id": "9fa99496",
   "metadata": {},
   "outputs": [
    {
     "data": {
      "text/plain": [
       "35858"
      ]
     },
     "execution_count": 47,
     "metadata": {},
     "output_type": "execute_result"
    }
   ],
   "source": [
    "len(vect.vocabulary_.keys())"
   ]
  },
  {
   "cell_type": "code",
   "execution_count": 48,
   "id": "41e55ce2",
   "metadata": {},
   "outputs": [],
   "source": [
    "# now importing test data\n",
    "imdb_test=pd.read_csv('movie_review_test.csv')"
   ]
  },
  {
   "cell_type": "code",
   "execution_count": 49,
   "id": "b3b1d6f4",
   "metadata": {
    "scrolled": true
   },
   "outputs": [
    {
     "data": {
      "text/plain": [
       "(400, 2)"
      ]
     },
     "execution_count": 49,
     "metadata": {},
     "output_type": "execute_result"
    }
   ],
   "source": [
    "imdb_test.shape"
   ]
  },
  {
   "cell_type": "code",
   "execution_count": 50,
   "id": "94b97282",
   "metadata": {},
   "outputs": [],
   "source": [
    "imdb_test['label']=imdb_test['class'].map({'Neg':0,'Pos':1})"
   ]
  },
  {
   "cell_type": "code",
   "execution_count": 51,
   "id": "4144bbc3",
   "metadata": {},
   "outputs": [],
   "source": [
    "imdb_test.drop('class',inplace=True,axis=1)"
   ]
  },
  {
   "cell_type": "code",
   "execution_count": 52,
   "id": "6719f8eb",
   "metadata": {},
   "outputs": [],
   "source": [
    "X_test=imdb_test['text']\n",
    "y_test=imdb_test['label']"
   ]
  },
  {
   "cell_type": "code",
   "execution_count": 53,
   "id": "a4f08468",
   "metadata": {},
   "outputs": [],
   "source": [
    "X_train_transformed=vect.transform(X_train)\n",
    "X_test_transformed=vect.transform(X_test)"
   ]
  },
  {
   "cell_type": "code",
   "execution_count": 54,
   "id": "edf4a5c0",
   "metadata": {},
   "outputs": [
    {
     "name": "stdout",
     "output_type": "stream",
     "text": [
      "<class 'scipy.sparse._csr.csr_matrix'>\n",
      "  (0, 57)\t1\n",
      "  (0, 225)\t1\n",
      "  (0, 313)\t4\n",
      "  (0, 328)\t1\n",
      "  (0, 1334)\t2\n",
      "  (0, 1534)\t1\n",
      "  (0, 1676)\t1\n",
      "  (0, 1810)\t1\n",
      "  (0, 1928)\t1\n",
      "  (0, 2058)\t1\n",
      "  (0, 2173)\t1\n",
      "  (0, 2229)\t3\n",
      "  (0, 2277)\t1\n",
      "  (0, 2319)\t1\n",
      "  (0, 2997)\t1\n",
      "  (0, 3604)\t1\n",
      "  (0, 4200)\t1\n",
      "  (0, 4285)\t1\n",
      "  (0, 4573)\t1\n",
      "  (0, 4582)\t1\n",
      "  (0, 4690)\t1\n",
      "  (0, 4838)\t1\n",
      "  (0, 4839)\t1\n",
      "  (0, 4869)\t2\n",
      "  (0, 5131)\t1\n",
      "  :\t:\n",
      "  (1599, 30670)\t1\n",
      "  (1599, 30808)\t1\n",
      "  (1599, 30928)\t1\n",
      "  (1599, 31107)\t1\n",
      "  (1599, 31162)\t1\n",
      "  (1599, 31198)\t1\n",
      "  (1599, 31483)\t1\n",
      "  (1599, 31486)\t2\n",
      "  (1599, 31717)\t1\n",
      "  (1599, 31761)\t1\n",
      "  (1599, 31954)\t1\n",
      "  (1599, 32120)\t1\n",
      "  (1599, 32544)\t1\n",
      "  (1599, 32894)\t1\n",
      "  (1599, 33323)\t1\n",
      "  (1599, 33801)\t1\n",
      "  (1599, 33949)\t1\n",
      "  (1599, 34330)\t1\n",
      "  (1599, 34400)\t1\n",
      "  (1599, 34424)\t1\n",
      "  (1599, 34706)\t1\n",
      "  (1599, 34788)\t2\n",
      "  (1599, 34965)\t1\n",
      "  (1599, 35351)\t1\n",
      "  (1599, 35396)\t1\n"
     ]
    }
   ],
   "source": [
    "print(type(X_train_transformed))\n",
    "print(X_train_transformed)"
   ]
  },
  {
   "cell_type": "code",
   "execution_count": 55,
   "id": "1c2f3e1a",
   "metadata": {},
   "outputs": [],
   "source": [
    "from sklearn.naive_bayes import MultinomialNB"
   ]
  },
  {
   "cell_type": "code",
   "execution_count": 56,
   "id": "638f86b0",
   "metadata": {},
   "outputs": [],
   "source": [
    "mb=MultinomialNB()"
   ]
  },
  {
   "cell_type": "code",
   "execution_count": 57,
   "id": "e4784b49",
   "metadata": {},
   "outputs": [
    {
     "data": {
      "text/html": [
       "<style>#sk-container-id-2 {color: black;background-color: white;}#sk-container-id-2 pre{padding: 0;}#sk-container-id-2 div.sk-toggleable {background-color: white;}#sk-container-id-2 label.sk-toggleable__label {cursor: pointer;display: block;width: 100%;margin-bottom: 0;padding: 0.3em;box-sizing: border-box;text-align: center;}#sk-container-id-2 label.sk-toggleable__label-arrow:before {content: \"▸\";float: left;margin-right: 0.25em;color: #696969;}#sk-container-id-2 label.sk-toggleable__label-arrow:hover:before {color: black;}#sk-container-id-2 div.sk-estimator:hover label.sk-toggleable__label-arrow:before {color: black;}#sk-container-id-2 div.sk-toggleable__content {max-height: 0;max-width: 0;overflow: hidden;text-align: left;background-color: #f0f8ff;}#sk-container-id-2 div.sk-toggleable__content pre {margin: 0.2em;color: black;border-radius: 0.25em;background-color: #f0f8ff;}#sk-container-id-2 input.sk-toggleable__control:checked~div.sk-toggleable__content {max-height: 200px;max-width: 100%;overflow: auto;}#sk-container-id-2 input.sk-toggleable__control:checked~label.sk-toggleable__label-arrow:before {content: \"▾\";}#sk-container-id-2 div.sk-estimator input.sk-toggleable__control:checked~label.sk-toggleable__label {background-color: #d4ebff;}#sk-container-id-2 div.sk-label input.sk-toggleable__control:checked~label.sk-toggleable__label {background-color: #d4ebff;}#sk-container-id-2 input.sk-hidden--visually {border: 0;clip: rect(1px 1px 1px 1px);clip: rect(1px, 1px, 1px, 1px);height: 1px;margin: -1px;overflow: hidden;padding: 0;position: absolute;width: 1px;}#sk-container-id-2 div.sk-estimator {font-family: monospace;background-color: #f0f8ff;border: 1px dotted black;border-radius: 0.25em;box-sizing: border-box;margin-bottom: 0.5em;}#sk-container-id-2 div.sk-estimator:hover {background-color: #d4ebff;}#sk-container-id-2 div.sk-parallel-item::after {content: \"\";width: 100%;border-bottom: 1px solid gray;flex-grow: 1;}#sk-container-id-2 div.sk-label:hover label.sk-toggleable__label {background-color: #d4ebff;}#sk-container-id-2 div.sk-serial::before {content: \"\";position: absolute;border-left: 1px solid gray;box-sizing: border-box;top: 0;bottom: 0;left: 50%;z-index: 0;}#sk-container-id-2 div.sk-serial {display: flex;flex-direction: column;align-items: center;background-color: white;padding-right: 0.2em;padding-left: 0.2em;position: relative;}#sk-container-id-2 div.sk-item {position: relative;z-index: 1;}#sk-container-id-2 div.sk-parallel {display: flex;align-items: stretch;justify-content: center;background-color: white;position: relative;}#sk-container-id-2 div.sk-item::before, #sk-container-id-2 div.sk-parallel-item::before {content: \"\";position: absolute;border-left: 1px solid gray;box-sizing: border-box;top: 0;bottom: 0;left: 50%;z-index: -1;}#sk-container-id-2 div.sk-parallel-item {display: flex;flex-direction: column;z-index: 1;position: relative;background-color: white;}#sk-container-id-2 div.sk-parallel-item:first-child::after {align-self: flex-end;width: 50%;}#sk-container-id-2 div.sk-parallel-item:last-child::after {align-self: flex-start;width: 50%;}#sk-container-id-2 div.sk-parallel-item:only-child::after {width: 0;}#sk-container-id-2 div.sk-dashed-wrapped {border: 1px dashed gray;margin: 0 0.4em 0.5em 0.4em;box-sizing: border-box;padding-bottom: 0.4em;background-color: white;}#sk-container-id-2 div.sk-label label {font-family: monospace;font-weight: bold;display: inline-block;line-height: 1.2em;}#sk-container-id-2 div.sk-label-container {text-align: center;}#sk-container-id-2 div.sk-container {/* jupyter's `normalize.less` sets `[hidden] { display: none; }` but bootstrap.min.css set `[hidden] { display: none !important; }` so we also need the `!important` here to be able to override the default hidden behavior on the sphinx rendered scikit-learn.org. See: https://github.com/scikit-learn/scikit-learn/issues/21755 */display: inline-block !important;position: relative;}#sk-container-id-2 div.sk-text-repr-fallback {display: none;}</style><div id=\"sk-container-id-2\" class=\"sk-top-container\"><div class=\"sk-text-repr-fallback\"><pre>MultinomialNB()</pre><b>In a Jupyter environment, please rerun this cell to show the HTML representation or trust the notebook. <br />On GitHub, the HTML representation is unable to render, please try loading this page with nbviewer.org.</b></div><div class=\"sk-container\" hidden><div class=\"sk-item\"><div class=\"sk-estimator sk-toggleable\"><input class=\"sk-toggleable__control sk-hidden--visually\" id=\"sk-estimator-id-2\" type=\"checkbox\" checked><label for=\"sk-estimator-id-2\" class=\"sk-toggleable__label sk-toggleable__label-arrow\">MultinomialNB</label><div class=\"sk-toggleable__content\"><pre>MultinomialNB()</pre></div></div></div></div></div>"
      ],
      "text/plain": [
       "MultinomialNB()"
      ]
     },
     "execution_count": 57,
     "metadata": {},
     "output_type": "execute_result"
    }
   ],
   "source": [
    "mb.fit(X_train_transformed,y_train)"
   ]
  },
  {
   "cell_type": "code",
   "execution_count": 58,
   "id": "49ea17c2",
   "metadata": {},
   "outputs": [],
   "source": [
    "y_pred_class=mb.predict(X_test_transformed)"
   ]
  },
  {
   "cell_type": "code",
   "execution_count": 59,
   "id": "164921e8",
   "metadata": {},
   "outputs": [],
   "source": [
    "y_pred_proba=mb.predict_proba(X_test_transformed)"
   ]
  },
  {
   "cell_type": "code",
   "execution_count": 76,
   "id": "57f2dba0",
   "metadata": {},
   "outputs": [
    {
     "name": "stdout",
     "output_type": "stream",
     "text": [
      "[[9.99815544e-01 1.84456400e-04]\n",
      " [1.80431723e-08 9.99999982e-01]\n",
      " [2.93597323e-04 9.99706403e-01]\n",
      " [1.37891062e-22 1.00000000e+00]\n",
      " [9.99992587e-01 7.41255840e-06]\n",
      " [2.52436000e-40 1.00000000e+00]\n",
      " [3.31873454e-38 1.00000000e+00]\n",
      " [1.62120574e-04 9.99837879e-01]\n",
      " [5.64657141e-04 9.99435343e-01]\n",
      " [2.27934669e-17 1.00000000e+00]\n",
      " [6.45031025e-11 1.00000000e+00]\n",
      " [3.30466641e-16 1.00000000e+00]\n",
      " [3.56839515e-15 1.00000000e+00]\n",
      " [1.01922028e-19 1.00000000e+00]\n",
      " [4.52327526e-07 9.99999548e-01]\n",
      " [7.43064598e-09 9.99999993e-01]\n",
      " [3.80502907e-04 9.99619497e-01]\n",
      " [6.69381494e-24 1.00000000e+00]\n",
      " [3.16041572e-07 9.99999684e-01]\n",
      " [9.99998734e-01 1.26589019e-06]\n",
      " [1.21615068e-04 9.99878385e-01]\n",
      " [1.56937693e-04 9.99843062e-01]\n",
      " [1.00000000e+00 1.86510166e-10]\n",
      " [1.58722898e-31 1.00000000e+00]\n",
      " [3.26004551e-04 9.99673995e-01]\n",
      " [1.00000000e+00 1.79723810e-11]\n",
      " [2.67164718e-09 9.99999997e-01]\n",
      " [1.28423059e-56 1.00000000e+00]\n",
      " [1.00000000e+00 5.36928862e-19]\n",
      " [7.91247106e-23 1.00000000e+00]\n",
      " [1.17780697e-25 1.00000000e+00]\n",
      " [1.14698928e-54 1.00000000e+00]\n",
      " [1.12303518e-24 1.00000000e+00]\n",
      " [4.65517898e-10 1.00000000e+00]\n",
      " [4.20236640e-07 9.99999580e-01]\n",
      " [3.73101718e-12 1.00000000e+00]\n",
      " [1.35351940e-05 9.99986465e-01]\n",
      " [8.37350512e-35 1.00000000e+00]\n",
      " [2.44316865e-07 9.99999756e-01]\n",
      " [4.13824579e-07 9.99999586e-01]\n",
      " [9.99999999e-01 6.37618619e-10]\n",
      " [4.06599662e-43 1.00000000e+00]\n",
      " [7.60277902e-37 1.00000000e+00]\n",
      " [6.02458671e-25 1.00000000e+00]\n",
      " [9.99890669e-01 1.09330964e-04]\n",
      " [4.00707165e-14 1.00000000e+00]\n",
      " [3.92045230e-01 6.07954770e-01]\n",
      " [8.25195796e-07 9.99999175e-01]\n",
      " [5.13706818e-21 1.00000000e+00]\n",
      " [9.99999822e-01 1.77716583e-07]\n",
      " [1.00000000e+00 4.52789901e-14]\n",
      " [2.76323669e-33 1.00000000e+00]\n",
      " [8.13818797e-10 9.99999999e-01]\n",
      " [1.23870941e-30 1.00000000e+00]\n",
      " [1.77253304e-04 9.99822747e-01]\n",
      " [9.99999963e-01 3.66912268e-08]\n",
      " [4.77717102e-29 1.00000000e+00]\n",
      " [9.85830520e-01 1.41694803e-02]\n",
      " [9.80319472e-01 1.96805283e-02]\n",
      " [2.36048865e-56 1.00000000e+00]\n",
      " [8.06002281e-12 1.00000000e+00]\n",
      " [9.46755354e-43 1.00000000e+00]\n",
      " [2.38458699e-08 9.99999976e-01]\n",
      " [2.45379881e-09 9.99999998e-01]\n",
      " [1.69338236e-31 1.00000000e+00]\n",
      " [2.62750809e-37 1.00000000e+00]\n",
      " [1.74773685e-14 1.00000000e+00]\n",
      " [1.68989055e-10 1.00000000e+00]\n",
      " [6.45732321e-15 1.00000000e+00]\n",
      " [3.62530048e-33 1.00000000e+00]\n",
      " [6.41499890e-08 9.99999936e-01]\n",
      " [1.40462815e-06 9.99998595e-01]\n",
      " [9.99999159e-01 8.41453738e-07]\n",
      " [9.99993872e-01 6.12846547e-06]\n",
      " [6.41699940e-47 1.00000000e+00]\n",
      " [9.97689552e-01 2.31044832e-03]\n",
      " [1.04742708e-21 1.00000000e+00]\n",
      " [7.90943806e-01 2.09056194e-01]\n",
      " [2.75820220e-20 1.00000000e+00]\n",
      " [4.28383654e-03 9.95716163e-01]\n",
      " [9.99999961e-01 3.90738018e-08]\n",
      " [3.34746028e-33 1.00000000e+00]\n",
      " [9.99999995e-01 5.03436073e-09]\n",
      " [3.17909209e-22 1.00000000e+00]\n",
      " [5.98731034e-07 9.99999401e-01]\n",
      " [2.47645755e-29 1.00000000e+00]\n",
      " [7.37118629e-50 1.00000000e+00]\n",
      " [1.70390514e-31 1.00000000e+00]\n",
      " [8.46652237e-12 1.00000000e+00]\n",
      " [9.99999797e-01 2.02813891e-07]\n",
      " [9.98081029e-01 1.91897133e-03]\n",
      " [4.63476862e-09 9.99999995e-01]\n",
      " [3.54667615e-04 9.99645332e-01]\n",
      " [9.53842879e-08 9.99999905e-01]\n",
      " [1.13653831e-18 1.00000000e+00]\n",
      " [9.82952321e-01 1.70476789e-02]\n",
      " [1.84173960e-26 1.00000000e+00]\n",
      " [4.27070465e-09 9.99999996e-01]\n",
      " [9.99222300e-01 7.77700053e-04]\n",
      " [8.97102171e-16 1.00000000e+00]\n",
      " [8.43251097e-09 9.99999992e-01]\n",
      " [9.58031435e-10 9.99999999e-01]\n",
      " [5.68246140e-18 1.00000000e+00]\n",
      " [8.79312118e-01 1.20687882e-01]\n",
      " [3.83906443e-04 9.99616094e-01]\n",
      " [7.25443786e-32 1.00000000e+00]\n",
      " [7.90137173e-14 1.00000000e+00]\n",
      " [9.99999990e-01 9.62334822e-09]\n",
      " [1.16355474e-09 9.99999999e-01]\n",
      " [4.73837681e-09 9.99999995e-01]\n",
      " [1.00000000e+00 4.02559838e-23]\n",
      " [9.64839360e-01 3.51606401e-02]\n",
      " [2.80374573e-23 1.00000000e+00]\n",
      " [1.67931296e-34 1.00000000e+00]\n",
      " [6.29211215e-02 9.37078878e-01]\n",
      " [8.02206401e-58 1.00000000e+00]\n",
      " [1.00000000e+00 4.36150331e-13]\n",
      " [7.02030654e-15 1.00000000e+00]\n",
      " [1.00000000e+00 2.73768969e-17]\n",
      " [9.99999999e-01 6.84753733e-10]\n",
      " [8.79141959e-19 1.00000000e+00]\n",
      " [1.71118714e-12 1.00000000e+00]\n",
      " [5.06588703e-50 1.00000000e+00]\n",
      " [3.38385026e-26 1.00000000e+00]\n",
      " [2.37560603e-11 1.00000000e+00]\n",
      " [7.85811895e-09 9.99999992e-01]\n",
      " [1.00000000e+00 7.06365485e-20]\n",
      " [1.00000000e+00 4.00466200e-19]\n",
      " [5.11797965e-09 9.99999995e-01]\n",
      " [3.32308559e-27 1.00000000e+00]\n",
      " [1.03686314e-14 1.00000000e+00]\n",
      " [3.29403824e-29 1.00000000e+00]\n",
      " [3.66090333e-01 6.33909667e-01]\n",
      " [1.08358694e-09 9.99999999e-01]\n",
      " [9.59653168e-21 1.00000000e+00]\n",
      " [1.92913644e-05 9.99980709e-01]\n",
      " [5.30171428e-14 1.00000000e+00]\n",
      " [1.39857590e-10 1.00000000e+00]\n",
      " [9.99999991e-01 8.60917895e-09]\n",
      " [1.05330955e-04 9.99894669e-01]\n",
      " [1.90114028e-16 1.00000000e+00]\n",
      " [6.84593505e-06 9.99993154e-01]\n",
      " [4.42818720e-24 1.00000000e+00]\n",
      " [4.46954680e-22 1.00000000e+00]\n",
      " [5.40412821e-05 9.99945959e-01]\n",
      " [9.97462940e-01 2.53706033e-03]\n",
      " [1.43999943e-62 1.00000000e+00]\n",
      " [8.82915653e-28 1.00000000e+00]\n",
      " [9.49946808e-22 1.00000000e+00]\n",
      " [1.00000000e+00 4.12901008e-21]\n",
      " [3.57151278e-08 9.99999964e-01]\n",
      " [6.14040226e-27 1.00000000e+00]\n",
      " [8.27922768e-04 9.99172077e-01]\n",
      " [5.42465898e-03 9.94575341e-01]\n",
      " [1.95236472e-20 1.00000000e+00]\n",
      " [7.87507966e-21 1.00000000e+00]\n",
      " [2.90583004e-14 1.00000000e+00]\n",
      " [1.17408523e-10 1.00000000e+00]\n",
      " [2.25881933e-21 1.00000000e+00]\n",
      " [1.13340461e-19 1.00000000e+00]\n",
      " [7.01317108e-12 1.00000000e+00]\n",
      " [1.38952534e-09 9.99999999e-01]\n",
      " [7.99488070e-09 9.99999992e-01]\n",
      " [1.39761261e-69 1.00000000e+00]\n",
      " [5.58561774e-18 1.00000000e+00]\n",
      " [3.26647227e-11 1.00000000e+00]\n",
      " [3.94800918e-44 1.00000000e+00]\n",
      " [6.37538722e-44 1.00000000e+00]\n",
      " [1.05785085e-57 1.00000000e+00]\n",
      " [8.21592663e-34 1.00000000e+00]\n",
      " [9.99999998e-01 2.14842753e-09]\n",
      " [1.29588962e-06 9.99998704e-01]\n",
      " [9.47050367e-01 5.29496331e-02]\n",
      " [1.66234851e-04 9.99833765e-01]\n",
      " [7.31107078e-19 1.00000000e+00]\n",
      " [1.38615061e-10 1.00000000e+00]\n",
      " [4.64559728e-03 9.95354403e-01]\n",
      " [1.05807751e-21 1.00000000e+00]\n",
      " [8.13474189e-22 1.00000000e+00]\n",
      " [2.66150438e-16 1.00000000e+00]\n",
      " [1.06797269e-06 9.99998932e-01]\n",
      " [6.88459359e-14 1.00000000e+00]\n",
      " [9.99292615e-01 7.07384794e-04]\n",
      " [5.49428457e-11 1.00000000e+00]\n",
      " [9.99874075e-01 1.25924598e-04]\n",
      " [1.00000000e+00 3.52670218e-29]\n",
      " [1.00000000e+00 4.56012222e-11]\n",
      " [1.26065537e-37 1.00000000e+00]\n",
      " [9.99999999e-01 6.62371791e-10]\n",
      " [1.05954527e-05 9.99989405e-01]\n",
      " [1.74844427e-16 1.00000000e+00]\n",
      " [3.64317798e-03 9.96356822e-01]\n",
      " [1.96841277e-19 1.00000000e+00]\n",
      " [2.36290266e-08 9.99999976e-01]\n",
      " [2.87850777e-02 9.71214922e-01]\n",
      " [9.99968382e-01 3.16179970e-05]\n",
      " [9.99999982e-01 1.76335907e-08]\n",
      " [1.44204131e-15 1.00000000e+00]\n",
      " [1.61982254e-01 8.38017746e-01]\n",
      " [6.30322899e-23 1.00000000e+00]\n",
      " [1.00000000e+00 1.49058466e-13]\n",
      " [9.99999579e-01 4.21462208e-07]\n",
      " [1.00000000e+00 7.03742665e-15]\n",
      " [1.72524631e-02 9.82747537e-01]\n",
      " [1.00000000e+00 3.13881182e-15]\n",
      " [9.99700950e-01 2.99050046e-04]\n",
      " [1.00000000e+00 4.47649143e-18]\n",
      " [1.00000000e+00 4.59200135e-25]\n",
      " [1.09098534e-13 1.00000000e+00]\n",
      " [1.00000000e+00 1.24738985e-24]\n",
      " [4.63817345e-09 9.99999995e-01]\n",
      " [9.96531308e-01 3.46869236e-03]\n",
      " [1.00000000e+00 5.27602996e-39]\n",
      " [1.00000000e+00 1.07271633e-40]\n",
      " [1.00000000e+00 3.24520685e-13]\n",
      " [1.00000000e+00 2.22609906e-23]\n",
      " [1.00000000e+00 2.05487498e-35]\n",
      " [1.00000000e+00 1.18137407e-20]\n",
      " [9.96627262e-01 3.37273844e-03]\n",
      " [1.00000000e+00 1.16793400e-21]\n",
      " [1.00000000e+00 1.56908301e-39]\n",
      " [8.22536945e-01 1.77463055e-01]\n",
      " [1.00000000e+00 1.59695446e-23]\n",
      " [2.99698881e-01 7.00301119e-01]\n",
      " [2.47925433e-11 1.00000000e+00]\n",
      " [1.26035642e-12 1.00000000e+00]\n",
      " [9.99999986e-01 1.42969278e-08]\n",
      " [1.00000000e+00 1.40996141e-28]\n",
      " [1.00000000e+00 5.20051803e-15]\n",
      " [9.99974221e-01 2.57794076e-05]\n",
      " [9.97173822e-01 2.82617785e-03]\n",
      " [1.00000000e+00 1.21807921e-38]\n",
      " [9.80012491e-01 1.99875092e-02]\n",
      " [1.00000000e+00 2.90051776e-17]\n",
      " [3.87378527e-02 9.61262147e-01]\n",
      " [8.86950139e-04 9.99113050e-01]\n",
      " [9.99900766e-01 9.92339809e-05]\n",
      " [1.00000000e+00 6.76109172e-20]\n",
      " [1.00000000e+00 2.00074478e-14]\n",
      " [9.76088653e-01 2.39113467e-02]\n",
      " [8.55721789e-01 1.44278211e-01]\n",
      " [2.36734059e-08 9.99999976e-01]\n",
      " [4.80977040e-13 1.00000000e+00]\n",
      " [1.00000000e+00 6.84934647e-13]\n",
      " [1.00000000e+00 1.62140178e-11]\n",
      " [1.00000000e+00 3.94403155e-24]\n",
      " [1.00000000e+00 2.20240396e-21]\n",
      " [1.00000000e+00 7.67683222e-22]\n",
      " [5.34994318e-01 4.65005682e-01]\n",
      " [1.00000000e+00 1.56351062e-10]\n",
      " [1.00000000e+00 5.48865701e-20]\n",
      " [1.00000000e+00 9.39768359e-14]\n",
      " [1.00000000e+00 2.36343343e-18]\n",
      " [1.00000000e+00 1.93412239e-28]\n",
      " [1.03655218e-02 9.89634478e-01]\n",
      " [9.95506204e-01 4.49379607e-03]\n",
      " [1.00000000e+00 4.62787490e-12]\n",
      " [3.78801803e-01 6.21198197e-01]\n",
      " [9.99386680e-01 6.13320354e-04]\n",
      " [8.70940605e-12 1.00000000e+00]\n",
      " [2.94849442e-18 1.00000000e+00]\n",
      " [1.00000000e+00 4.33783120e-20]\n",
      " [1.00000000e+00 1.67459415e-23]\n",
      " [1.00000000e+00 5.38527730e-32]\n",
      " [1.00000000e+00 1.15703001e-22]\n",
      " [1.00000000e+00 2.36493322e-15]\n",
      " [1.62511465e-04 9.99837489e-01]\n",
      " [1.55145781e-02 9.84485422e-01]\n",
      " [9.99862687e-01 1.37313056e-04]\n",
      " [9.99309545e-01 6.90454938e-04]\n",
      " [1.00000000e+00 5.43313213e-45]\n",
      " [9.99957000e-01 4.29996477e-05]\n",
      " [9.73696554e-01 2.63034465e-02]\n",
      " [1.00000000e+00 2.38712840e-18]\n",
      " [1.00000000e+00 3.90075997e-25]\n",
      " [6.29720035e-15 1.00000000e+00]\n",
      " [2.97957372e-01 7.02042628e-01]\n",
      " [1.00000000e+00 5.18232852e-18]\n",
      " [1.00000000e+00 1.80861473e-14]\n",
      " [1.00000000e+00 5.09810793e-53]\n",
      " [9.99999620e-01 3.80264977e-07]\n",
      " [9.63441951e-01 3.65580488e-02]\n",
      " [1.00000000e+00 1.28678799e-10]\n",
      " [1.00000000e+00 2.97164087e-13]\n",
      " [1.00000000e+00 2.58097359e-16]\n",
      " [1.00000000e+00 6.60638161e-20]\n",
      " [2.90885188e-10 1.00000000e+00]\n",
      " [1.00000000e+00 7.49939583e-18]\n",
      " [3.46337440e-01 6.53662560e-01]\n",
      " [9.99115948e-01 8.84052053e-04]\n",
      " [1.96878049e-08 9.99999980e-01]\n",
      " [5.67094400e-12 1.00000000e+00]\n",
      " [1.00000000e+00 1.79874430e-14]\n",
      " [9.94150355e-01 5.84964540e-03]\n",
      " [7.21760603e-13 1.00000000e+00]\n",
      " [9.98908089e-01 1.09191123e-03]\n",
      " [8.44521147e-01 1.55478853e-01]\n",
      " [8.88559099e-06 9.99991114e-01]\n",
      " [9.99992982e-01 7.01802408e-06]\n",
      " [6.09371251e-01 3.90628749e-01]\n",
      " [9.98262233e-01 1.73776711e-03]\n",
      " [1.00000000e+00 8.72046039e-22]\n",
      " [2.34098310e-01 7.65901690e-01]\n",
      " [1.00000000e+00 1.12020013e-21]\n",
      " [6.15346376e-08 9.99999938e-01]\n",
      " [1.00000000e+00 3.03456292e-12]\n",
      " [1.56213293e-03 9.98437867e-01]\n",
      " [1.00000000e+00 2.03569376e-21]\n",
      " [9.99983941e-01 1.60586381e-05]\n",
      " [9.99813497e-01 1.86503445e-04]\n",
      " [1.97192237e-04 9.99802808e-01]\n",
      " [1.00000000e+00 1.39951883e-17]\n",
      " [1.00000000e+00 4.27581372e-12]\n",
      " [1.00000000e+00 2.16440991e-22]\n",
      " [9.99999993e-01 6.61822552e-09]\n",
      " [1.00000000e+00 9.88226513e-14]\n",
      " [9.99936223e-01 6.37771696e-05]\n",
      " [1.00000000e+00 7.82677814e-15]\n",
      " [1.00000000e+00 6.48781406e-23]\n",
      " [1.00000000e+00 1.80396204e-11]\n",
      " [5.77852912e-15 1.00000000e+00]\n",
      " [9.99995627e-01 4.37273850e-06]\n",
      " [1.00000000e+00 1.33886416e-19]\n",
      " [1.00000000e+00 4.29633436e-22]\n",
      " [9.99999999e-01 7.92819252e-10]\n",
      " [1.00000000e+00 1.24428092e-15]\n",
      " [1.00000000e+00 4.10569756e-32]\n",
      " [1.00000000e+00 9.71406758e-11]\n",
      " [9.99989264e-01 1.07360410e-05]\n",
      " [1.00000000e+00 4.06663707e-12]\n",
      " [9.99999153e-01 8.47157084e-07]\n",
      " [1.00000000e+00 2.82918203e-18]\n",
      " [1.00000000e+00 6.72556292e-12]\n",
      " [1.00000000e+00 7.17284302e-13]\n",
      " [1.00000000e+00 1.18921839e-15]\n",
      " [8.58937912e-05 9.99914106e-01]\n",
      " [9.96905426e-01 3.09457430e-03]\n",
      " [1.00000000e+00 1.05450628e-22]\n",
      " [1.00000000e+00 1.50430995e-27]\n",
      " [1.00000000e+00 1.06474828e-20]\n",
      " [1.00000000e+00 1.43025868e-44]\n",
      " [1.00000000e+00 9.57245071e-19]\n",
      " [5.76091016e-13 1.00000000e+00]\n",
      " [9.99999618e-01 3.81908406e-07]\n",
      " [1.00000000e+00 6.13299316e-24]\n",
      " [2.44333334e-02 9.75566667e-01]\n",
      " [1.00000000e+00 5.51136034e-22]\n",
      " [6.01658673e-01 3.98341327e-01]\n",
      " [1.00000000e+00 1.84366952e-19]\n",
      " [1.00000000e+00 1.63029220e-13]\n",
      " [1.00000000e+00 5.83201657e-25]\n",
      " [1.00000000e+00 8.55632974e-12]\n",
      " [1.00000000e+00 1.89627584e-23]\n",
      " [1.00000000e+00 2.78164720e-14]\n",
      " [1.00000000e+00 2.20921948e-34]\n",
      " [1.00000000e+00 3.43450083e-15]\n",
      " [1.00000000e+00 1.89530931e-13]\n",
      " [1.38349293e-03 9.98616507e-01]\n",
      " [1.00000000e+00 7.98747429e-15]\n",
      " [9.99998429e-01 1.57054587e-06]\n",
      " [1.02341566e-11 1.00000000e+00]\n",
      " [1.00000000e+00 2.98899145e-13]\n",
      " [9.99999997e-01 2.85284761e-09]\n",
      " [1.00000000e+00 1.41789922e-32]\n",
      " [1.00000000e+00 1.02242978e-16]\n",
      " [1.00000000e+00 7.71418070e-13]\n",
      " [1.00000000e+00 4.12791235e-23]\n",
      " [1.47882736e-01 8.52117264e-01]\n",
      " [6.67864094e-01 3.32135906e-01]\n",
      " [1.00000000e+00 7.13210848e-12]\n",
      " [1.00000000e+00 2.60115632e-10]\n",
      " [9.99991462e-01 8.53823474e-06]\n",
      " [1.00000000e+00 1.49715262e-14]\n",
      " [1.00000000e+00 1.18910346e-12]\n",
      " [9.99929667e-01 7.03334267e-05]\n",
      " [1.00000000e+00 1.21103333e-22]\n",
      " [1.00000000e+00 1.13551588e-11]\n",
      " [1.90185544e-01 8.09814456e-01]\n",
      " [9.99999996e-01 3.91166036e-09]\n",
      " [9.99995205e-01 4.79464046e-06]\n",
      " [1.00000000e+00 1.29672111e-13]\n",
      " [1.00000000e+00 6.82115478e-12]\n",
      " [9.99999994e-01 5.91028591e-09]\n",
      " [1.00000000e+00 6.74371950e-17]\n",
      " [1.00000000e+00 5.69637206e-20]\n",
      " [9.99999787e-01 2.13130386e-07]\n",
      " [1.00000000e+00 6.06156096e-11]\n",
      " [1.00000000e+00 2.55747436e-25]\n",
      " [1.00000000e+00 2.91431862e-19]\n",
      " [9.99770507e-01 2.29493219e-04]\n",
      " [1.00000000e+00 1.43908175e-22]\n",
      " [1.00000000e+00 9.66464587e-27]\n",
      " [1.00000000e+00 3.82095003e-31]\n",
      " [5.37509784e-01 4.62490216e-01]\n",
      " [8.39149320e-04 9.99160851e-01]\n",
      " [9.99999987e-01 1.30704352e-08]\n",
      " [1.00000000e+00 5.21030154e-17]\n",
      " [9.51126431e-01 4.88735686e-02]\n",
      " [1.15252818e-09 9.99999999e-01]\n",
      " [9.92181185e-01 7.81881482e-03]]\n"
     ]
    }
   ],
   "source": [
    "print(y_pred_proba)"
   ]
  },
  {
   "cell_type": "code",
   "execution_count": 74,
   "id": "a0610e52",
   "metadata": {},
   "outputs": [
    {
     "name": "stdout",
     "output_type": "stream",
     "text": [
      "MultinomialNB()\n"
     ]
    }
   ],
   "source": [
    "print(mb)"
   ]
  },
  {
   "cell_type": "code",
   "execution_count": 86,
   "id": "a289e805",
   "metadata": {},
   "outputs": [],
   "source": [
    "vect1=CountVectorizer(stop_words='english', min_df=.03, max_df=.8) "
   ]
  },
  {
   "cell_type": "code",
   "execution_count": 87,
   "id": "4ceb5a26",
   "metadata": {},
   "outputs": [
    {
     "data": {
      "text/html": [
       "<style>#sk-container-id-6 {color: black;background-color: white;}#sk-container-id-6 pre{padding: 0;}#sk-container-id-6 div.sk-toggleable {background-color: white;}#sk-container-id-6 label.sk-toggleable__label {cursor: pointer;display: block;width: 100%;margin-bottom: 0;padding: 0.3em;box-sizing: border-box;text-align: center;}#sk-container-id-6 label.sk-toggleable__label-arrow:before {content: \"▸\";float: left;margin-right: 0.25em;color: #696969;}#sk-container-id-6 label.sk-toggleable__label-arrow:hover:before {color: black;}#sk-container-id-6 div.sk-estimator:hover label.sk-toggleable__label-arrow:before {color: black;}#sk-container-id-6 div.sk-toggleable__content {max-height: 0;max-width: 0;overflow: hidden;text-align: left;background-color: #f0f8ff;}#sk-container-id-6 div.sk-toggleable__content pre {margin: 0.2em;color: black;border-radius: 0.25em;background-color: #f0f8ff;}#sk-container-id-6 input.sk-toggleable__control:checked~div.sk-toggleable__content {max-height: 200px;max-width: 100%;overflow: auto;}#sk-container-id-6 input.sk-toggleable__control:checked~label.sk-toggleable__label-arrow:before {content: \"▾\";}#sk-container-id-6 div.sk-estimator input.sk-toggleable__control:checked~label.sk-toggleable__label {background-color: #d4ebff;}#sk-container-id-6 div.sk-label input.sk-toggleable__control:checked~label.sk-toggleable__label {background-color: #d4ebff;}#sk-container-id-6 input.sk-hidden--visually {border: 0;clip: rect(1px 1px 1px 1px);clip: rect(1px, 1px, 1px, 1px);height: 1px;margin: -1px;overflow: hidden;padding: 0;position: absolute;width: 1px;}#sk-container-id-6 div.sk-estimator {font-family: monospace;background-color: #f0f8ff;border: 1px dotted black;border-radius: 0.25em;box-sizing: border-box;margin-bottom: 0.5em;}#sk-container-id-6 div.sk-estimator:hover {background-color: #d4ebff;}#sk-container-id-6 div.sk-parallel-item::after {content: \"\";width: 100%;border-bottom: 1px solid gray;flex-grow: 1;}#sk-container-id-6 div.sk-label:hover label.sk-toggleable__label {background-color: #d4ebff;}#sk-container-id-6 div.sk-serial::before {content: \"\";position: absolute;border-left: 1px solid gray;box-sizing: border-box;top: 0;bottom: 0;left: 50%;z-index: 0;}#sk-container-id-6 div.sk-serial {display: flex;flex-direction: column;align-items: center;background-color: white;padding-right: 0.2em;padding-left: 0.2em;position: relative;}#sk-container-id-6 div.sk-item {position: relative;z-index: 1;}#sk-container-id-6 div.sk-parallel {display: flex;align-items: stretch;justify-content: center;background-color: white;position: relative;}#sk-container-id-6 div.sk-item::before, #sk-container-id-6 div.sk-parallel-item::before {content: \"\";position: absolute;border-left: 1px solid gray;box-sizing: border-box;top: 0;bottom: 0;left: 50%;z-index: -1;}#sk-container-id-6 div.sk-parallel-item {display: flex;flex-direction: column;z-index: 1;position: relative;background-color: white;}#sk-container-id-6 div.sk-parallel-item:first-child::after {align-self: flex-end;width: 50%;}#sk-container-id-6 div.sk-parallel-item:last-child::after {align-self: flex-start;width: 50%;}#sk-container-id-6 div.sk-parallel-item:only-child::after {width: 0;}#sk-container-id-6 div.sk-dashed-wrapped {border: 1px dashed gray;margin: 0 0.4em 0.5em 0.4em;box-sizing: border-box;padding-bottom: 0.4em;background-color: white;}#sk-container-id-6 div.sk-label label {font-family: monospace;font-weight: bold;display: inline-block;line-height: 1.2em;}#sk-container-id-6 div.sk-label-container {text-align: center;}#sk-container-id-6 div.sk-container {/* jupyter's `normalize.less` sets `[hidden] { display: none; }` but bootstrap.min.css set `[hidden] { display: none !important; }` so we also need the `!important` here to be able to override the default hidden behavior on the sphinx rendered scikit-learn.org. See: https://github.com/scikit-learn/scikit-learn/issues/21755 */display: inline-block !important;position: relative;}#sk-container-id-6 div.sk-text-repr-fallback {display: none;}</style><div id=\"sk-container-id-6\" class=\"sk-top-container\"><div class=\"sk-text-repr-fallback\"><pre>CountVectorizer(max_df=0.8, min_df=0.03, stop_words=&#x27;english&#x27;)</pre><b>In a Jupyter environment, please rerun this cell to show the HTML representation or trust the notebook. <br />On GitHub, the HTML representation is unable to render, please try loading this page with nbviewer.org.</b></div><div class=\"sk-container\" hidden><div class=\"sk-item\"><div class=\"sk-estimator sk-toggleable\"><input class=\"sk-toggleable__control sk-hidden--visually\" id=\"sk-estimator-id-6\" type=\"checkbox\" checked><label for=\"sk-estimator-id-6\" class=\"sk-toggleable__label sk-toggleable__label-arrow\">CountVectorizer</label><div class=\"sk-toggleable__content\"><pre>CountVectorizer(max_df=0.8, min_df=0.03, stop_words=&#x27;english&#x27;)</pre></div></div></div></div></div>"
      ],
      "text/plain": [
       "CountVectorizer(max_df=0.8, min_df=0.03, stop_words='english')"
      ]
     },
     "execution_count": 87,
     "metadata": {},
     "output_type": "execute_result"
    }
   ],
   "source": [
    "vect1.fit(X_train)"
   ]
  },
  {
   "cell_type": "code",
   "execution_count": 88,
   "id": "46c50495",
   "metadata": {},
   "outputs": [
    {
     "data": {
      "text/plain": [
       "1643"
      ]
     },
     "execution_count": 88,
     "metadata": {},
     "output_type": "execute_result"
    }
   ],
   "source": [
    "len(vect1.vocabulary_.keys())"
   ]
  },
  {
   "cell_type": "code",
   "execution_count": 89,
   "id": "4dfd6386",
   "metadata": {},
   "outputs": [],
   "source": [
    "X_train_transform1=vect1.transform(X_train)"
   ]
  },
  {
   "cell_type": "code",
   "execution_count": 90,
   "id": "d2b29ce1",
   "metadata": {},
   "outputs": [],
   "source": [
    "X_test_transform1=vect1.transform(X_test)"
   ]
  },
  {
   "cell_type": "code",
   "execution_count": 91,
   "id": "5383efdd",
   "metadata": {},
   "outputs": [
    {
     "name": "stdout",
     "output_type": "stream",
     "text": [
      "51663\n"
     ]
    }
   ],
   "source": [
    "print(X_test_transform1.getnnz())"
   ]
  },
  {
   "cell_type": "code",
   "execution_count": 92,
   "id": "3067df59",
   "metadata": {},
   "outputs": [
    {
     "data": {
      "text/plain": [
       "217396"
      ]
     },
     "execution_count": 92,
     "metadata": {},
     "output_type": "execute_result"
    }
   ],
   "source": [
    "X_train_transform1.getnnz()"
   ]
  },
  {
   "cell_type": "code",
   "execution_count": 93,
   "id": "a23c3558",
   "metadata": {},
   "outputs": [],
   "source": [
    "mb1=MultinomialNB()"
   ]
  },
  {
   "cell_type": "code",
   "execution_count": 94,
   "id": "ff19f7c3",
   "metadata": {},
   "outputs": [
    {
     "data": {
      "text/html": [
       "<style>#sk-container-id-7 {color: black;background-color: white;}#sk-container-id-7 pre{padding: 0;}#sk-container-id-7 div.sk-toggleable {background-color: white;}#sk-container-id-7 label.sk-toggleable__label {cursor: pointer;display: block;width: 100%;margin-bottom: 0;padding: 0.3em;box-sizing: border-box;text-align: center;}#sk-container-id-7 label.sk-toggleable__label-arrow:before {content: \"▸\";float: left;margin-right: 0.25em;color: #696969;}#sk-container-id-7 label.sk-toggleable__label-arrow:hover:before {color: black;}#sk-container-id-7 div.sk-estimator:hover label.sk-toggleable__label-arrow:before {color: black;}#sk-container-id-7 div.sk-toggleable__content {max-height: 0;max-width: 0;overflow: hidden;text-align: left;background-color: #f0f8ff;}#sk-container-id-7 div.sk-toggleable__content pre {margin: 0.2em;color: black;border-radius: 0.25em;background-color: #f0f8ff;}#sk-container-id-7 input.sk-toggleable__control:checked~div.sk-toggleable__content {max-height: 200px;max-width: 100%;overflow: auto;}#sk-container-id-7 input.sk-toggleable__control:checked~label.sk-toggleable__label-arrow:before {content: \"▾\";}#sk-container-id-7 div.sk-estimator input.sk-toggleable__control:checked~label.sk-toggleable__label {background-color: #d4ebff;}#sk-container-id-7 div.sk-label input.sk-toggleable__control:checked~label.sk-toggleable__label {background-color: #d4ebff;}#sk-container-id-7 input.sk-hidden--visually {border: 0;clip: rect(1px 1px 1px 1px);clip: rect(1px, 1px, 1px, 1px);height: 1px;margin: -1px;overflow: hidden;padding: 0;position: absolute;width: 1px;}#sk-container-id-7 div.sk-estimator {font-family: monospace;background-color: #f0f8ff;border: 1px dotted black;border-radius: 0.25em;box-sizing: border-box;margin-bottom: 0.5em;}#sk-container-id-7 div.sk-estimator:hover {background-color: #d4ebff;}#sk-container-id-7 div.sk-parallel-item::after {content: \"\";width: 100%;border-bottom: 1px solid gray;flex-grow: 1;}#sk-container-id-7 div.sk-label:hover label.sk-toggleable__label {background-color: #d4ebff;}#sk-container-id-7 div.sk-serial::before {content: \"\";position: absolute;border-left: 1px solid gray;box-sizing: border-box;top: 0;bottom: 0;left: 50%;z-index: 0;}#sk-container-id-7 div.sk-serial {display: flex;flex-direction: column;align-items: center;background-color: white;padding-right: 0.2em;padding-left: 0.2em;position: relative;}#sk-container-id-7 div.sk-item {position: relative;z-index: 1;}#sk-container-id-7 div.sk-parallel {display: flex;align-items: stretch;justify-content: center;background-color: white;position: relative;}#sk-container-id-7 div.sk-item::before, #sk-container-id-7 div.sk-parallel-item::before {content: \"\";position: absolute;border-left: 1px solid gray;box-sizing: border-box;top: 0;bottom: 0;left: 50%;z-index: -1;}#sk-container-id-7 div.sk-parallel-item {display: flex;flex-direction: column;z-index: 1;position: relative;background-color: white;}#sk-container-id-7 div.sk-parallel-item:first-child::after {align-self: flex-end;width: 50%;}#sk-container-id-7 div.sk-parallel-item:last-child::after {align-self: flex-start;width: 50%;}#sk-container-id-7 div.sk-parallel-item:only-child::after {width: 0;}#sk-container-id-7 div.sk-dashed-wrapped {border: 1px dashed gray;margin: 0 0.4em 0.5em 0.4em;box-sizing: border-box;padding-bottom: 0.4em;background-color: white;}#sk-container-id-7 div.sk-label label {font-family: monospace;font-weight: bold;display: inline-block;line-height: 1.2em;}#sk-container-id-7 div.sk-label-container {text-align: center;}#sk-container-id-7 div.sk-container {/* jupyter's `normalize.less` sets `[hidden] { display: none; }` but bootstrap.min.css set `[hidden] { display: none !important; }` so we also need the `!important` here to be able to override the default hidden behavior on the sphinx rendered scikit-learn.org. See: https://github.com/scikit-learn/scikit-learn/issues/21755 */display: inline-block !important;position: relative;}#sk-container-id-7 div.sk-text-repr-fallback {display: none;}</style><div id=\"sk-container-id-7\" class=\"sk-top-container\"><div class=\"sk-text-repr-fallback\"><pre>MultinomialNB()</pre><b>In a Jupyter environment, please rerun this cell to show the HTML representation or trust the notebook. <br />On GitHub, the HTML representation is unable to render, please try loading this page with nbviewer.org.</b></div><div class=\"sk-container\" hidden><div class=\"sk-item\"><div class=\"sk-estimator sk-toggleable\"><input class=\"sk-toggleable__control sk-hidden--visually\" id=\"sk-estimator-id-7\" type=\"checkbox\" checked><label for=\"sk-estimator-id-7\" class=\"sk-toggleable__label sk-toggleable__label-arrow\">MultinomialNB</label><div class=\"sk-toggleable__content\"><pre>MultinomialNB()</pre></div></div></div></div></div>"
      ],
      "text/plain": [
       "MultinomialNB()"
      ]
     },
     "execution_count": 94,
     "metadata": {},
     "output_type": "execute_result"
    }
   ],
   "source": [
    "mb1.fit(X_train_transform1,y_train)"
   ]
  },
  {
   "cell_type": "code",
   "execution_count": 95,
   "id": "a088f939",
   "metadata": {},
   "outputs": [],
   "source": [
    "y_pred_class1=mb1.predict(X_test_transform1)\n",
    "y_pred_proba1=mb1.predict_proba(X_test_transform1)"
   ]
  },
  {
   "cell_type": "code",
   "execution_count": 96,
   "id": "0e3d12a4",
   "metadata": {},
   "outputs": [
    {
     "name": "stdout",
     "output_type": "stream",
     "text": [
      "[[9.99815544e-01 1.84456400e-04]\n",
      " [1.80431723e-08 9.99999982e-01]\n",
      " [2.93597323e-04 9.99706403e-01]\n",
      " [1.37891062e-22 1.00000000e+00]\n",
      " [9.99992587e-01 7.41255840e-06]\n",
      " [2.52436000e-40 1.00000000e+00]\n",
      " [3.31873454e-38 1.00000000e+00]\n",
      " [1.62120574e-04 9.99837879e-01]\n",
      " [5.64657141e-04 9.99435343e-01]\n",
      " [2.27934669e-17 1.00000000e+00]\n",
      " [6.45031025e-11 1.00000000e+00]\n",
      " [3.30466641e-16 1.00000000e+00]\n",
      " [3.56839515e-15 1.00000000e+00]\n",
      " [1.01922028e-19 1.00000000e+00]\n",
      " [4.52327526e-07 9.99999548e-01]\n",
      " [7.43064598e-09 9.99999993e-01]\n",
      " [3.80502907e-04 9.99619497e-01]\n",
      " [6.69381494e-24 1.00000000e+00]\n",
      " [3.16041572e-07 9.99999684e-01]\n",
      " [9.99998734e-01 1.26589019e-06]\n",
      " [1.21615068e-04 9.99878385e-01]\n",
      " [1.56937693e-04 9.99843062e-01]\n",
      " [1.00000000e+00 1.86510166e-10]\n",
      " [1.58722898e-31 1.00000000e+00]\n",
      " [3.26004551e-04 9.99673995e-01]\n",
      " [1.00000000e+00 1.79723810e-11]\n",
      " [2.67164718e-09 9.99999997e-01]\n",
      " [1.28423059e-56 1.00000000e+00]\n",
      " [1.00000000e+00 5.36928862e-19]\n",
      " [7.91247106e-23 1.00000000e+00]\n",
      " [1.17780697e-25 1.00000000e+00]\n",
      " [1.14698928e-54 1.00000000e+00]\n",
      " [1.12303518e-24 1.00000000e+00]\n",
      " [4.65517898e-10 1.00000000e+00]\n",
      " [4.20236640e-07 9.99999580e-01]\n",
      " [3.73101718e-12 1.00000000e+00]\n",
      " [1.35351940e-05 9.99986465e-01]\n",
      " [8.37350512e-35 1.00000000e+00]\n",
      " [2.44316865e-07 9.99999756e-01]\n",
      " [4.13824579e-07 9.99999586e-01]\n",
      " [9.99999999e-01 6.37618619e-10]\n",
      " [4.06599662e-43 1.00000000e+00]\n",
      " [7.60277902e-37 1.00000000e+00]\n",
      " [6.02458671e-25 1.00000000e+00]\n",
      " [9.99890669e-01 1.09330964e-04]\n",
      " [4.00707165e-14 1.00000000e+00]\n",
      " [3.92045230e-01 6.07954770e-01]\n",
      " [8.25195796e-07 9.99999175e-01]\n",
      " [5.13706818e-21 1.00000000e+00]\n",
      " [9.99999822e-01 1.77716583e-07]\n",
      " [1.00000000e+00 4.52789901e-14]\n",
      " [2.76323669e-33 1.00000000e+00]\n",
      " [8.13818797e-10 9.99999999e-01]\n",
      " [1.23870941e-30 1.00000000e+00]\n",
      " [1.77253304e-04 9.99822747e-01]\n",
      " [9.99999963e-01 3.66912268e-08]\n",
      " [4.77717102e-29 1.00000000e+00]\n",
      " [9.85830520e-01 1.41694803e-02]\n",
      " [9.80319472e-01 1.96805283e-02]\n",
      " [2.36048865e-56 1.00000000e+00]\n",
      " [8.06002281e-12 1.00000000e+00]\n",
      " [9.46755354e-43 1.00000000e+00]\n",
      " [2.38458699e-08 9.99999976e-01]\n",
      " [2.45379881e-09 9.99999998e-01]\n",
      " [1.69338236e-31 1.00000000e+00]\n",
      " [2.62750809e-37 1.00000000e+00]\n",
      " [1.74773685e-14 1.00000000e+00]\n",
      " [1.68989055e-10 1.00000000e+00]\n",
      " [6.45732321e-15 1.00000000e+00]\n",
      " [3.62530048e-33 1.00000000e+00]\n",
      " [6.41499890e-08 9.99999936e-01]\n",
      " [1.40462815e-06 9.99998595e-01]\n",
      " [9.99999159e-01 8.41453738e-07]\n",
      " [9.99993872e-01 6.12846547e-06]\n",
      " [6.41699940e-47 1.00000000e+00]\n",
      " [9.97689552e-01 2.31044832e-03]\n",
      " [1.04742708e-21 1.00000000e+00]\n",
      " [7.90943806e-01 2.09056194e-01]\n",
      " [2.75820220e-20 1.00000000e+00]\n",
      " [4.28383654e-03 9.95716163e-01]\n",
      " [9.99999961e-01 3.90738018e-08]\n",
      " [3.34746028e-33 1.00000000e+00]\n",
      " [9.99999995e-01 5.03436073e-09]\n",
      " [3.17909209e-22 1.00000000e+00]\n",
      " [5.98731034e-07 9.99999401e-01]\n",
      " [2.47645755e-29 1.00000000e+00]\n",
      " [7.37118629e-50 1.00000000e+00]\n",
      " [1.70390514e-31 1.00000000e+00]\n",
      " [8.46652237e-12 1.00000000e+00]\n",
      " [9.99999797e-01 2.02813891e-07]\n",
      " [9.98081029e-01 1.91897133e-03]\n",
      " [4.63476862e-09 9.99999995e-01]\n",
      " [3.54667615e-04 9.99645332e-01]\n",
      " [9.53842879e-08 9.99999905e-01]\n",
      " [1.13653831e-18 1.00000000e+00]\n",
      " [9.82952321e-01 1.70476789e-02]\n",
      " [1.84173960e-26 1.00000000e+00]\n",
      " [4.27070465e-09 9.99999996e-01]\n",
      " [9.99222300e-01 7.77700053e-04]\n",
      " [8.97102171e-16 1.00000000e+00]\n",
      " [8.43251097e-09 9.99999992e-01]\n",
      " [9.58031435e-10 9.99999999e-01]\n",
      " [5.68246140e-18 1.00000000e+00]\n",
      " [8.79312118e-01 1.20687882e-01]\n",
      " [3.83906443e-04 9.99616094e-01]\n",
      " [7.25443786e-32 1.00000000e+00]\n",
      " [7.90137173e-14 1.00000000e+00]\n",
      " [9.99999990e-01 9.62334822e-09]\n",
      " [1.16355474e-09 9.99999999e-01]\n",
      " [4.73837681e-09 9.99999995e-01]\n",
      " [1.00000000e+00 4.02559838e-23]\n",
      " [9.64839360e-01 3.51606401e-02]\n",
      " [2.80374573e-23 1.00000000e+00]\n",
      " [1.67931296e-34 1.00000000e+00]\n",
      " [6.29211215e-02 9.37078878e-01]\n",
      " [8.02206401e-58 1.00000000e+00]\n",
      " [1.00000000e+00 4.36150331e-13]\n",
      " [7.02030654e-15 1.00000000e+00]\n",
      " [1.00000000e+00 2.73768969e-17]\n",
      " [9.99999999e-01 6.84753733e-10]\n",
      " [8.79141959e-19 1.00000000e+00]\n",
      " [1.71118714e-12 1.00000000e+00]\n",
      " [5.06588703e-50 1.00000000e+00]\n",
      " [3.38385026e-26 1.00000000e+00]\n",
      " [2.37560603e-11 1.00000000e+00]\n",
      " [7.85811895e-09 9.99999992e-01]\n",
      " [1.00000000e+00 7.06365485e-20]\n",
      " [1.00000000e+00 4.00466200e-19]\n",
      " [5.11797965e-09 9.99999995e-01]\n",
      " [3.32308559e-27 1.00000000e+00]\n",
      " [1.03686314e-14 1.00000000e+00]\n",
      " [3.29403824e-29 1.00000000e+00]\n",
      " [3.66090333e-01 6.33909667e-01]\n",
      " [1.08358694e-09 9.99999999e-01]\n",
      " [9.59653168e-21 1.00000000e+00]\n",
      " [1.92913644e-05 9.99980709e-01]\n",
      " [5.30171428e-14 1.00000000e+00]\n",
      " [1.39857590e-10 1.00000000e+00]\n",
      " [9.99999991e-01 8.60917895e-09]\n",
      " [1.05330955e-04 9.99894669e-01]\n",
      " [1.90114028e-16 1.00000000e+00]\n",
      " [6.84593505e-06 9.99993154e-01]\n",
      " [4.42818720e-24 1.00000000e+00]\n",
      " [4.46954680e-22 1.00000000e+00]\n",
      " [5.40412821e-05 9.99945959e-01]\n",
      " [9.97462940e-01 2.53706033e-03]\n",
      " [1.43999943e-62 1.00000000e+00]\n",
      " [8.82915653e-28 1.00000000e+00]\n",
      " [9.49946808e-22 1.00000000e+00]\n",
      " [1.00000000e+00 4.12901008e-21]\n",
      " [3.57151278e-08 9.99999964e-01]\n",
      " [6.14040226e-27 1.00000000e+00]\n",
      " [8.27922768e-04 9.99172077e-01]\n",
      " [5.42465898e-03 9.94575341e-01]\n",
      " [1.95236472e-20 1.00000000e+00]\n",
      " [7.87507966e-21 1.00000000e+00]\n",
      " [2.90583004e-14 1.00000000e+00]\n",
      " [1.17408523e-10 1.00000000e+00]\n",
      " [2.25881933e-21 1.00000000e+00]\n",
      " [1.13340461e-19 1.00000000e+00]\n",
      " [7.01317108e-12 1.00000000e+00]\n",
      " [1.38952534e-09 9.99999999e-01]\n",
      " [7.99488070e-09 9.99999992e-01]\n",
      " [1.39761261e-69 1.00000000e+00]\n",
      " [5.58561774e-18 1.00000000e+00]\n",
      " [3.26647227e-11 1.00000000e+00]\n",
      " [3.94800918e-44 1.00000000e+00]\n",
      " [6.37538722e-44 1.00000000e+00]\n",
      " [1.05785085e-57 1.00000000e+00]\n",
      " [8.21592663e-34 1.00000000e+00]\n",
      " [9.99999998e-01 2.14842753e-09]\n",
      " [1.29588962e-06 9.99998704e-01]\n",
      " [9.47050367e-01 5.29496331e-02]\n",
      " [1.66234851e-04 9.99833765e-01]\n",
      " [7.31107078e-19 1.00000000e+00]\n",
      " [1.38615061e-10 1.00000000e+00]\n",
      " [4.64559728e-03 9.95354403e-01]\n",
      " [1.05807751e-21 1.00000000e+00]\n",
      " [8.13474189e-22 1.00000000e+00]\n",
      " [2.66150438e-16 1.00000000e+00]\n",
      " [1.06797269e-06 9.99998932e-01]\n",
      " [6.88459359e-14 1.00000000e+00]\n",
      " [9.99292615e-01 7.07384794e-04]\n",
      " [5.49428457e-11 1.00000000e+00]\n",
      " [9.99874075e-01 1.25924598e-04]\n",
      " [1.00000000e+00 3.52670218e-29]\n",
      " [1.00000000e+00 4.56012222e-11]\n",
      " [1.26065537e-37 1.00000000e+00]\n",
      " [9.99999999e-01 6.62371791e-10]\n",
      " [1.05954527e-05 9.99989405e-01]\n",
      " [1.74844427e-16 1.00000000e+00]\n",
      " [3.64317798e-03 9.96356822e-01]\n",
      " [1.96841277e-19 1.00000000e+00]\n",
      " [2.36290266e-08 9.99999976e-01]\n",
      " [2.87850777e-02 9.71214922e-01]\n",
      " [9.99968382e-01 3.16179970e-05]\n",
      " [9.99999982e-01 1.76335907e-08]\n",
      " [1.44204131e-15 1.00000000e+00]\n",
      " [1.61982254e-01 8.38017746e-01]\n",
      " [6.30322899e-23 1.00000000e+00]\n",
      " [1.00000000e+00 1.49058466e-13]\n",
      " [9.99999579e-01 4.21462208e-07]\n",
      " [1.00000000e+00 7.03742665e-15]\n",
      " [1.72524631e-02 9.82747537e-01]\n",
      " [1.00000000e+00 3.13881182e-15]\n",
      " [9.99700950e-01 2.99050046e-04]\n",
      " [1.00000000e+00 4.47649143e-18]\n",
      " [1.00000000e+00 4.59200135e-25]\n",
      " [1.09098534e-13 1.00000000e+00]\n",
      " [1.00000000e+00 1.24738985e-24]\n",
      " [4.63817345e-09 9.99999995e-01]\n",
      " [9.96531308e-01 3.46869236e-03]\n",
      " [1.00000000e+00 5.27602996e-39]\n",
      " [1.00000000e+00 1.07271633e-40]\n",
      " [1.00000000e+00 3.24520685e-13]\n",
      " [1.00000000e+00 2.22609906e-23]\n",
      " [1.00000000e+00 2.05487498e-35]\n",
      " [1.00000000e+00 1.18137407e-20]\n",
      " [9.96627262e-01 3.37273844e-03]\n",
      " [1.00000000e+00 1.16793400e-21]\n",
      " [1.00000000e+00 1.56908301e-39]\n",
      " [8.22536945e-01 1.77463055e-01]\n",
      " [1.00000000e+00 1.59695446e-23]\n",
      " [2.99698881e-01 7.00301119e-01]\n",
      " [2.47925433e-11 1.00000000e+00]\n",
      " [1.26035642e-12 1.00000000e+00]\n",
      " [9.99999986e-01 1.42969278e-08]\n",
      " [1.00000000e+00 1.40996141e-28]\n",
      " [1.00000000e+00 5.20051803e-15]\n",
      " [9.99974221e-01 2.57794076e-05]\n",
      " [9.97173822e-01 2.82617785e-03]\n",
      " [1.00000000e+00 1.21807921e-38]\n",
      " [9.80012491e-01 1.99875092e-02]\n",
      " [1.00000000e+00 2.90051776e-17]\n",
      " [3.87378527e-02 9.61262147e-01]\n",
      " [8.86950139e-04 9.99113050e-01]\n",
      " [9.99900766e-01 9.92339809e-05]\n",
      " [1.00000000e+00 6.76109172e-20]\n",
      " [1.00000000e+00 2.00074478e-14]\n",
      " [9.76088653e-01 2.39113467e-02]\n",
      " [8.55721789e-01 1.44278211e-01]\n",
      " [2.36734059e-08 9.99999976e-01]\n",
      " [4.80977040e-13 1.00000000e+00]\n",
      " [1.00000000e+00 6.84934647e-13]\n",
      " [1.00000000e+00 1.62140178e-11]\n",
      " [1.00000000e+00 3.94403155e-24]\n",
      " [1.00000000e+00 2.20240396e-21]\n",
      " [1.00000000e+00 7.67683222e-22]\n",
      " [5.34994318e-01 4.65005682e-01]\n",
      " [1.00000000e+00 1.56351062e-10]\n",
      " [1.00000000e+00 5.48865701e-20]\n",
      " [1.00000000e+00 9.39768359e-14]\n",
      " [1.00000000e+00 2.36343343e-18]\n",
      " [1.00000000e+00 1.93412239e-28]\n",
      " [1.03655218e-02 9.89634478e-01]\n",
      " [9.95506204e-01 4.49379607e-03]\n",
      " [1.00000000e+00 4.62787490e-12]\n",
      " [3.78801803e-01 6.21198197e-01]\n",
      " [9.99386680e-01 6.13320354e-04]\n",
      " [8.70940605e-12 1.00000000e+00]\n",
      " [2.94849442e-18 1.00000000e+00]\n",
      " [1.00000000e+00 4.33783120e-20]\n",
      " [1.00000000e+00 1.67459415e-23]\n",
      " [1.00000000e+00 5.38527730e-32]\n",
      " [1.00000000e+00 1.15703001e-22]\n",
      " [1.00000000e+00 2.36493322e-15]\n",
      " [1.62511465e-04 9.99837489e-01]\n",
      " [1.55145781e-02 9.84485422e-01]\n",
      " [9.99862687e-01 1.37313056e-04]\n",
      " [9.99309545e-01 6.90454938e-04]\n",
      " [1.00000000e+00 5.43313213e-45]\n",
      " [9.99957000e-01 4.29996477e-05]\n",
      " [9.73696554e-01 2.63034465e-02]\n",
      " [1.00000000e+00 2.38712840e-18]\n",
      " [1.00000000e+00 3.90075997e-25]\n",
      " [6.29720035e-15 1.00000000e+00]\n",
      " [2.97957372e-01 7.02042628e-01]\n",
      " [1.00000000e+00 5.18232852e-18]\n",
      " [1.00000000e+00 1.80861473e-14]\n",
      " [1.00000000e+00 5.09810793e-53]\n",
      " [9.99999620e-01 3.80264977e-07]\n",
      " [9.63441951e-01 3.65580488e-02]\n",
      " [1.00000000e+00 1.28678799e-10]\n",
      " [1.00000000e+00 2.97164087e-13]\n",
      " [1.00000000e+00 2.58097359e-16]\n",
      " [1.00000000e+00 6.60638161e-20]\n",
      " [2.90885188e-10 1.00000000e+00]\n",
      " [1.00000000e+00 7.49939583e-18]\n",
      " [3.46337440e-01 6.53662560e-01]\n",
      " [9.99115948e-01 8.84052053e-04]\n",
      " [1.96878049e-08 9.99999980e-01]\n",
      " [5.67094400e-12 1.00000000e+00]\n",
      " [1.00000000e+00 1.79874430e-14]\n",
      " [9.94150355e-01 5.84964540e-03]\n",
      " [7.21760603e-13 1.00000000e+00]\n",
      " [9.98908089e-01 1.09191123e-03]\n",
      " [8.44521147e-01 1.55478853e-01]\n",
      " [8.88559099e-06 9.99991114e-01]\n",
      " [9.99992982e-01 7.01802408e-06]\n",
      " [6.09371251e-01 3.90628749e-01]\n",
      " [9.98262233e-01 1.73776711e-03]\n",
      " [1.00000000e+00 8.72046039e-22]\n",
      " [2.34098310e-01 7.65901690e-01]\n",
      " [1.00000000e+00 1.12020013e-21]\n",
      " [6.15346376e-08 9.99999938e-01]\n",
      " [1.00000000e+00 3.03456292e-12]\n",
      " [1.56213293e-03 9.98437867e-01]\n",
      " [1.00000000e+00 2.03569376e-21]\n",
      " [9.99983941e-01 1.60586381e-05]\n",
      " [9.99813497e-01 1.86503445e-04]\n",
      " [1.97192237e-04 9.99802808e-01]\n",
      " [1.00000000e+00 1.39951883e-17]\n",
      " [1.00000000e+00 4.27581372e-12]\n",
      " [1.00000000e+00 2.16440991e-22]\n",
      " [9.99999993e-01 6.61822552e-09]\n",
      " [1.00000000e+00 9.88226513e-14]\n",
      " [9.99936223e-01 6.37771696e-05]\n",
      " [1.00000000e+00 7.82677814e-15]\n",
      " [1.00000000e+00 6.48781406e-23]\n",
      " [1.00000000e+00 1.80396204e-11]\n",
      " [5.77852912e-15 1.00000000e+00]\n",
      " [9.99995627e-01 4.37273850e-06]\n",
      " [1.00000000e+00 1.33886416e-19]\n",
      " [1.00000000e+00 4.29633436e-22]\n",
      " [9.99999999e-01 7.92819252e-10]\n",
      " [1.00000000e+00 1.24428092e-15]\n",
      " [1.00000000e+00 4.10569756e-32]\n",
      " [1.00000000e+00 9.71406758e-11]\n",
      " [9.99989264e-01 1.07360410e-05]\n",
      " [1.00000000e+00 4.06663707e-12]\n",
      " [9.99999153e-01 8.47157084e-07]\n",
      " [1.00000000e+00 2.82918203e-18]\n",
      " [1.00000000e+00 6.72556292e-12]\n",
      " [1.00000000e+00 7.17284302e-13]\n",
      " [1.00000000e+00 1.18921839e-15]\n",
      " [8.58937912e-05 9.99914106e-01]\n",
      " [9.96905426e-01 3.09457430e-03]\n",
      " [1.00000000e+00 1.05450628e-22]\n",
      " [1.00000000e+00 1.50430995e-27]\n",
      " [1.00000000e+00 1.06474828e-20]\n",
      " [1.00000000e+00 1.43025868e-44]\n",
      " [1.00000000e+00 9.57245071e-19]\n",
      " [5.76091016e-13 1.00000000e+00]\n",
      " [9.99999618e-01 3.81908406e-07]\n",
      " [1.00000000e+00 6.13299316e-24]\n",
      " [2.44333334e-02 9.75566667e-01]\n",
      " [1.00000000e+00 5.51136034e-22]\n",
      " [6.01658673e-01 3.98341327e-01]\n",
      " [1.00000000e+00 1.84366952e-19]\n",
      " [1.00000000e+00 1.63029220e-13]\n",
      " [1.00000000e+00 5.83201657e-25]\n",
      " [1.00000000e+00 8.55632974e-12]\n",
      " [1.00000000e+00 1.89627584e-23]\n",
      " [1.00000000e+00 2.78164720e-14]\n",
      " [1.00000000e+00 2.20921948e-34]\n",
      " [1.00000000e+00 3.43450083e-15]\n",
      " [1.00000000e+00 1.89530931e-13]\n",
      " [1.38349293e-03 9.98616507e-01]\n",
      " [1.00000000e+00 7.98747429e-15]\n",
      " [9.99998429e-01 1.57054587e-06]\n",
      " [1.02341566e-11 1.00000000e+00]\n",
      " [1.00000000e+00 2.98899145e-13]\n",
      " [9.99999997e-01 2.85284761e-09]\n",
      " [1.00000000e+00 1.41789922e-32]\n",
      " [1.00000000e+00 1.02242978e-16]\n",
      " [1.00000000e+00 7.71418070e-13]\n",
      " [1.00000000e+00 4.12791235e-23]\n",
      " [1.47882736e-01 8.52117264e-01]\n",
      " [6.67864094e-01 3.32135906e-01]\n",
      " [1.00000000e+00 7.13210848e-12]\n",
      " [1.00000000e+00 2.60115632e-10]\n",
      " [9.99991462e-01 8.53823474e-06]\n",
      " [1.00000000e+00 1.49715262e-14]\n",
      " [1.00000000e+00 1.18910346e-12]\n",
      " [9.99929667e-01 7.03334267e-05]\n",
      " [1.00000000e+00 1.21103333e-22]\n",
      " [1.00000000e+00 1.13551588e-11]\n",
      " [1.90185544e-01 8.09814456e-01]\n",
      " [9.99999996e-01 3.91166036e-09]\n",
      " [9.99995205e-01 4.79464046e-06]\n",
      " [1.00000000e+00 1.29672111e-13]\n",
      " [1.00000000e+00 6.82115478e-12]\n",
      " [9.99999994e-01 5.91028591e-09]\n",
      " [1.00000000e+00 6.74371950e-17]\n",
      " [1.00000000e+00 5.69637206e-20]\n",
      " [9.99999787e-01 2.13130386e-07]\n",
      " [1.00000000e+00 6.06156096e-11]\n",
      " [1.00000000e+00 2.55747436e-25]\n",
      " [1.00000000e+00 2.91431862e-19]\n",
      " [9.99770507e-01 2.29493219e-04]\n",
      " [1.00000000e+00 1.43908175e-22]\n",
      " [1.00000000e+00 9.66464587e-27]\n",
      " [1.00000000e+00 3.82095003e-31]\n",
      " [5.37509784e-01 4.62490216e-01]\n",
      " [8.39149320e-04 9.99160851e-01]\n",
      " [9.99999987e-01 1.30704352e-08]\n",
      " [1.00000000e+00 5.21030154e-17]\n",
      " [9.51126431e-01 4.88735686e-02]\n",
      " [1.15252818e-09 9.99999999e-01]\n",
      " [9.92181185e-01 7.81881482e-03]]\n"
     ]
    }
   ],
   "source": [
    "print(y_pred_proba)"
   ]
  },
  {
   "cell_type": "code",
   "execution_count": 97,
   "id": "b2137136",
   "metadata": {},
   "outputs": [],
   "source": [
    "from sklearn import metrics"
   ]
  },
  {
   "cell_type": "code",
   "execution_count": 98,
   "id": "0fa48aeb",
   "metadata": {},
   "outputs": [
    {
     "data": {
      "text/plain": [
       "array([[172,  28],\n",
       "       [ 41, 159]], dtype=int64)"
      ]
     },
     "execution_count": 98,
     "metadata": {},
     "output_type": "execute_result"
    }
   ],
   "source": [
    "metrics.confusion_matrix(y_test,y_pred_class1)"
   ]
  },
  {
   "cell_type": "code",
   "execution_count": 99,
   "id": "e59a2c13",
   "metadata": {},
   "outputs": [],
   "source": [
    "cm=metrics.confusion_matrix(y_test,y_pred_class1)"
   ]
  },
  {
   "cell_type": "code",
   "execution_count": 100,
   "id": "94100a81",
   "metadata": {},
   "outputs": [],
   "source": [
    "TN=cm[0,0]\n",
    "FP=cm[0,1]\n",
    "FN=cm[1,0]\n",
    "TP=cm[1,1]"
   ]
  },
  {
   "cell_type": "code",
   "execution_count": 85,
   "id": "8591825d",
   "metadata": {},
   "outputs": [
    {
     "data": {
      "text/plain": [
       "0.8275"
      ]
     },
     "execution_count": 85,
     "metadata": {},
     "output_type": "execute_result"
    }
   ],
   "source": [
    "#accuracy\n",
    "(TN+TP)/(TP+TN+FP+FN)"
   ]
  },
  {
   "cell_type": "code",
   "execution_count": null,
   "id": "a808af27",
   "metadata": {},
   "outputs": [],
   "source": []
  },
  {
   "cell_type": "code",
   "execution_count": 102,
   "id": "1bd0988b",
   "metadata": {},
   "outputs": [],
   "source": [
    "#doing same thing with benoulli naive byes\n",
    "from sklearn.naive_bayes import BernoulliNB"
   ]
  },
  {
   "cell_type": "code",
   "execution_count": 103,
   "id": "d8f2e829",
   "metadata": {},
   "outputs": [],
   "source": [
    "bnb=BernoulliNB()"
   ]
  },
  {
   "cell_type": "code",
   "execution_count": 104,
   "id": "abd1eb3f",
   "metadata": {},
   "outputs": [
    {
     "data": {
      "text/html": [
       "<style>#sk-container-id-8 {color: black;background-color: white;}#sk-container-id-8 pre{padding: 0;}#sk-container-id-8 div.sk-toggleable {background-color: white;}#sk-container-id-8 label.sk-toggleable__label {cursor: pointer;display: block;width: 100%;margin-bottom: 0;padding: 0.3em;box-sizing: border-box;text-align: center;}#sk-container-id-8 label.sk-toggleable__label-arrow:before {content: \"▸\";float: left;margin-right: 0.25em;color: #696969;}#sk-container-id-8 label.sk-toggleable__label-arrow:hover:before {color: black;}#sk-container-id-8 div.sk-estimator:hover label.sk-toggleable__label-arrow:before {color: black;}#sk-container-id-8 div.sk-toggleable__content {max-height: 0;max-width: 0;overflow: hidden;text-align: left;background-color: #f0f8ff;}#sk-container-id-8 div.sk-toggleable__content pre {margin: 0.2em;color: black;border-radius: 0.25em;background-color: #f0f8ff;}#sk-container-id-8 input.sk-toggleable__control:checked~div.sk-toggleable__content {max-height: 200px;max-width: 100%;overflow: auto;}#sk-container-id-8 input.sk-toggleable__control:checked~label.sk-toggleable__label-arrow:before {content: \"▾\";}#sk-container-id-8 div.sk-estimator input.sk-toggleable__control:checked~label.sk-toggleable__label {background-color: #d4ebff;}#sk-container-id-8 div.sk-label input.sk-toggleable__control:checked~label.sk-toggleable__label {background-color: #d4ebff;}#sk-container-id-8 input.sk-hidden--visually {border: 0;clip: rect(1px 1px 1px 1px);clip: rect(1px, 1px, 1px, 1px);height: 1px;margin: -1px;overflow: hidden;padding: 0;position: absolute;width: 1px;}#sk-container-id-8 div.sk-estimator {font-family: monospace;background-color: #f0f8ff;border: 1px dotted black;border-radius: 0.25em;box-sizing: border-box;margin-bottom: 0.5em;}#sk-container-id-8 div.sk-estimator:hover {background-color: #d4ebff;}#sk-container-id-8 div.sk-parallel-item::after {content: \"\";width: 100%;border-bottom: 1px solid gray;flex-grow: 1;}#sk-container-id-8 div.sk-label:hover label.sk-toggleable__label {background-color: #d4ebff;}#sk-container-id-8 div.sk-serial::before {content: \"\";position: absolute;border-left: 1px solid gray;box-sizing: border-box;top: 0;bottom: 0;left: 50%;z-index: 0;}#sk-container-id-8 div.sk-serial {display: flex;flex-direction: column;align-items: center;background-color: white;padding-right: 0.2em;padding-left: 0.2em;position: relative;}#sk-container-id-8 div.sk-item {position: relative;z-index: 1;}#sk-container-id-8 div.sk-parallel {display: flex;align-items: stretch;justify-content: center;background-color: white;position: relative;}#sk-container-id-8 div.sk-item::before, #sk-container-id-8 div.sk-parallel-item::before {content: \"\";position: absolute;border-left: 1px solid gray;box-sizing: border-box;top: 0;bottom: 0;left: 50%;z-index: -1;}#sk-container-id-8 div.sk-parallel-item {display: flex;flex-direction: column;z-index: 1;position: relative;background-color: white;}#sk-container-id-8 div.sk-parallel-item:first-child::after {align-self: flex-end;width: 50%;}#sk-container-id-8 div.sk-parallel-item:last-child::after {align-self: flex-start;width: 50%;}#sk-container-id-8 div.sk-parallel-item:only-child::after {width: 0;}#sk-container-id-8 div.sk-dashed-wrapped {border: 1px dashed gray;margin: 0 0.4em 0.5em 0.4em;box-sizing: border-box;padding-bottom: 0.4em;background-color: white;}#sk-container-id-8 div.sk-label label {font-family: monospace;font-weight: bold;display: inline-block;line-height: 1.2em;}#sk-container-id-8 div.sk-label-container {text-align: center;}#sk-container-id-8 div.sk-container {/* jupyter's `normalize.less` sets `[hidden] { display: none; }` but bootstrap.min.css set `[hidden] { display: none !important; }` so we also need the `!important` here to be able to override the default hidden behavior on the sphinx rendered scikit-learn.org. See: https://github.com/scikit-learn/scikit-learn/issues/21755 */display: inline-block !important;position: relative;}#sk-container-id-8 div.sk-text-repr-fallback {display: none;}</style><div id=\"sk-container-id-8\" class=\"sk-top-container\"><div class=\"sk-text-repr-fallback\"><pre>BernoulliNB()</pre><b>In a Jupyter environment, please rerun this cell to show the HTML representation or trust the notebook. <br />On GitHub, the HTML representation is unable to render, please try loading this page with nbviewer.org.</b></div><div class=\"sk-container\" hidden><div class=\"sk-item\"><div class=\"sk-estimator sk-toggleable\"><input class=\"sk-toggleable__control sk-hidden--visually\" id=\"sk-estimator-id-8\" type=\"checkbox\" checked><label for=\"sk-estimator-id-8\" class=\"sk-toggleable__label sk-toggleable__label-arrow\">BernoulliNB</label><div class=\"sk-toggleable__content\"><pre>BernoulliNB()</pre></div></div></div></div></div>"
      ],
      "text/plain": [
       "BernoulliNB()"
      ]
     },
     "execution_count": 104,
     "metadata": {},
     "output_type": "execute_result"
    }
   ],
   "source": [
    "bnb.fit(X_train_transform1,y_train)"
   ]
  },
  {
   "cell_type": "code",
   "execution_count": 105,
   "id": "ca85cce6",
   "metadata": {},
   "outputs": [],
   "source": [
    "y_test_predict2=bnb.predict(X_test_transform1)"
   ]
  },
  {
   "cell_type": "code",
   "execution_count": 106,
   "id": "e285c659",
   "metadata": {},
   "outputs": [],
   "source": [
    "cm=metrics.confusion_matrix(y_test,y_test_predict2)"
   ]
  },
  {
   "cell_type": "code",
   "execution_count": 107,
   "id": "fe57ec7b",
   "metadata": {},
   "outputs": [],
   "source": [
    "TN=cm[0,0]\n",
    "FP=cm[0,1]\n",
    "FN=cm[1,0]\n",
    "TP=cm[1,1]"
   ]
  },
  {
   "cell_type": "code",
   "execution_count": 108,
   "id": "420b2dab",
   "metadata": {},
   "outputs": [
    {
     "data": {
      "text/plain": [
       "0.79"
      ]
     },
     "execution_count": 108,
     "metadata": {},
     "output_type": "execute_result"
    }
   ],
   "source": [
    "#accuracy\n",
    "(TN+TP)/(TP+TN+FP+FN)"
   ]
  },
  {
   "cell_type": "code",
   "execution_count": 109,
   "id": "d566b933",
   "metadata": {},
   "outputs": [
    {
     "data": {
      "text/plain": [
       "array([[177,  23],\n",
       "       [ 61, 139]], dtype=int64)"
      ]
     },
     "execution_count": 109,
     "metadata": {},
     "output_type": "execute_result"
    }
   ],
   "source": [
    "cm"
   ]
  }
 ],
 "metadata": {
  "kernelspec": {
   "display_name": "Python 3 (ipykernel)",
   "language": "python",
   "name": "python3"
  },
  "language_info": {
   "codemirror_mode": {
    "name": "ipython",
    "version": 3
   },
   "file_extension": ".py",
   "mimetype": "text/x-python",
   "name": "python",
   "nbconvert_exporter": "python",
   "pygments_lexer": "ipython3",
   "version": "3.8.10"
  }
 },
 "nbformat": 4,
 "nbformat_minor": 5
}
